{
 "cells": [
  {
   "cell_type": "code",
   "execution_count": 21,
   "metadata": {},
   "outputs": [
    {
     "data": {
      "text/html": [
       "<div>\n",
       "<style scoped>\n",
       "    .dataframe tbody tr th:only-of-type {\n",
       "        vertical-align: middle;\n",
       "    }\n",
       "\n",
       "    .dataframe tbody tr th {\n",
       "        vertical-align: top;\n",
       "    }\n",
       "\n",
       "    .dataframe thead th {\n",
       "        text-align: right;\n",
       "    }\n",
       "</style>\n",
       "<table border=\"1\" class=\"dataframe\">\n",
       "  <thead>\n",
       "    <tr style=\"text-align: right;\">\n",
       "      <th></th>\n",
       "      <th>身高</th>\n",
       "      <th>体重</th>\n",
       "      <th>开设</th>\n",
       "      <th>课程</th>\n",
       "      <th>学号</th>\n",
       "    </tr>\n",
       "  </thead>\n",
       "  <tbody>\n",
       "    <tr>\n",
       "      <th>0</th>\n",
       "      <td>195</td>\n",
       "      <td>109</td>\n",
       "      <td>有必要</td>\n",
       "      <td>概率统计</td>\n",
       "      <td>0</td>\n",
       "    </tr>\n",
       "    <tr>\n",
       "      <th>1</th>\n",
       "      <td>178</td>\n",
       "      <td>119</td>\n",
       "      <td>无必要</td>\n",
       "      <td>统计方法</td>\n",
       "      <td>1</td>\n",
       "    </tr>\n",
       "    <tr>\n",
       "      <th>2</th>\n",
       "      <td>156</td>\n",
       "      <td>122</td>\n",
       "      <td>有必要</td>\n",
       "      <td>编程技术</td>\n",
       "      <td>2</td>\n",
       "    </tr>\n",
       "    <tr>\n",
       "      <th>3</th>\n",
       "      <td>185</td>\n",
       "      <td>147</td>\n",
       "      <td>无必要</td>\n",
       "      <td>都学习过</td>\n",
       "      <td>3</td>\n",
       "    </tr>\n",
       "    <tr>\n",
       "      <th>4</th>\n",
       "      <td>179</td>\n",
       "      <td>130</td>\n",
       "      <td>有必要</td>\n",
       "      <td>都未学过</td>\n",
       "      <td>4</td>\n",
       "    </tr>\n",
       "  </tbody>\n",
       "</table>\n",
       "</div>"
      ],
      "text/plain": [
       "    身高   体重   开设    课程  学号\n",
       "0  195  109  有必要  概率统计   0\n",
       "1  178  119  无必要  统计方法   1\n",
       "2  156  122  有必要  编程技术   2\n",
       "3  185  147  无必要  都学习过   3\n",
       "4  179  130  有必要  都未学过   4"
      ]
     },
     "execution_count": 21,
     "metadata": {},
     "output_type": "execute_result"
    },
    {
     "data": {
      "text/plain": [
       "<Figure size 360x288 with 0 Axes>"
      ]
     },
     "metadata": {},
     "output_type": "display_data"
    }
   ],
   "source": [
    "import matplotlib.pyplot as plt\n",
    "import numpy as np\n",
    "import pandas as pd\n",
    "import seaborn as sns #导入seanborn包\n",
    "plt.rcParams['font.sans-serif']=['KaiTi']\n",
    "plt.rcParams['axes.unicode_minus']=False\n",
    "plt.figure(figsize=(5,4))\n",
    "data=pd.read_csv(r'data.csv')\n",
    "data.head()"
   ]
  },
  {
   "cell_type": "code",
   "execution_count": 22,
   "metadata": {},
   "outputs": [
    {
     "data": {
      "text/plain": [
       "array([ 0, 14, 14,  0,  6,  7])"
      ]
     },
     "execution_count": 22,
     "metadata": {},
     "output_type": "execute_result"
    }
   ],
   "source": [
    "i=np.random.randint(0,15,6) #抽取6名学生\n",
    "i"
   ]
  },
  {
   "cell_type": "code",
   "execution_count": 23,
   "metadata": {},
   "outputs": [
    {
     "data": {
      "text/html": [
       "<div>\n",
       "<style scoped>\n",
       "    .dataframe tbody tr th:only-of-type {\n",
       "        vertical-align: middle;\n",
       "    }\n",
       "\n",
       "    .dataframe tbody tr th {\n",
       "        vertical-align: top;\n",
       "    }\n",
       "\n",
       "    .dataframe thead th {\n",
       "        text-align: right;\n",
       "    }\n",
       "</style>\n",
       "<table border=\"1\" class=\"dataframe\">\n",
       "  <thead>\n",
       "    <tr style=\"text-align: right;\">\n",
       "      <th></th>\n",
       "      <th>身高</th>\n",
       "      <th>体重</th>\n",
       "      <th>开设</th>\n",
       "      <th>课程</th>\n",
       "      <th>学号</th>\n",
       "    </tr>\n",
       "  </thead>\n",
       "  <tbody>\n",
       "    <tr>\n",
       "      <th>0</th>\n",
       "      <td>195</td>\n",
       "      <td>109</td>\n",
       "      <td>有必要</td>\n",
       "      <td>概率统计</td>\n",
       "      <td>0</td>\n",
       "    </tr>\n",
       "    <tr>\n",
       "      <th>14</th>\n",
       "      <td>167</td>\n",
       "      <td>120</td>\n",
       "      <td>有必要</td>\n",
       "      <td>都未学过</td>\n",
       "      <td>14</td>\n",
       "    </tr>\n",
       "    <tr>\n",
       "      <th>14</th>\n",
       "      <td>167</td>\n",
       "      <td>120</td>\n",
       "      <td>有必要</td>\n",
       "      <td>都未学过</td>\n",
       "      <td>14</td>\n",
       "    </tr>\n",
       "    <tr>\n",
       "      <th>0</th>\n",
       "      <td>195</td>\n",
       "      <td>109</td>\n",
       "      <td>有必要</td>\n",
       "      <td>概率统计</td>\n",
       "      <td>0</td>\n",
       "    </tr>\n",
       "    <tr>\n",
       "      <th>6</th>\n",
       "      <td>168</td>\n",
       "      <td>149</td>\n",
       "      <td>有必要</td>\n",
       "      <td>统计方法</td>\n",
       "      <td>6</td>\n",
       "    </tr>\n",
       "    <tr>\n",
       "      <th>7</th>\n",
       "      <td>156</td>\n",
       "      <td>138</td>\n",
       "      <td>无必要</td>\n",
       "      <td>编程技术</td>\n",
       "      <td>7</td>\n",
       "    </tr>\n",
       "  </tbody>\n",
       "</table>\n",
       "</div>"
      ],
      "text/plain": [
       "     身高   体重   开设    课程  学号\n",
       "0   195  109  有必要  概率统计   0\n",
       "14  167  120  有必要  都未学过  14\n",
       "14  167  120  有必要  都未学过  14\n",
       "0   195  109  有必要  概率统计   0\n",
       "6   168  149  有必要  统计方法   6\n",
       "7   156  138  无必要  编程技术   7"
      ]
     },
     "execution_count": 23,
     "metadata": {},
     "output_type": "execute_result"
    }
   ],
   "source": [
    "data.iloc[i]"
   ]
  },
  {
   "cell_type": "code",
   "execution_count": 24,
   "metadata": {},
   "outputs": [
    {
     "data": {
      "text/html": [
       "<div>\n",
       "<style scoped>\n",
       "    .dataframe tbody tr th:only-of-type {\n",
       "        vertical-align: middle;\n",
       "    }\n",
       "\n",
       "    .dataframe tbody tr th {\n",
       "        vertical-align: top;\n",
       "    }\n",
       "\n",
       "    .dataframe thead th {\n",
       "        text-align: right;\n",
       "    }\n",
       "</style>\n",
       "<table border=\"1\" class=\"dataframe\">\n",
       "  <thead>\n",
       "    <tr style=\"text-align: right;\">\n",
       "      <th></th>\n",
       "      <th>身高</th>\n",
       "      <th>体重</th>\n",
       "      <th>开设</th>\n",
       "      <th>课程</th>\n",
       "      <th>学号</th>\n",
       "    </tr>\n",
       "  </thead>\n",
       "  <tbody>\n",
       "    <tr>\n",
       "      <th>4</th>\n",
       "      <td>179</td>\n",
       "      <td>130</td>\n",
       "      <td>有必要</td>\n",
       "      <td>都未学过</td>\n",
       "      <td>4</td>\n",
       "    </tr>\n",
       "    <tr>\n",
       "      <th>8</th>\n",
       "      <td>173</td>\n",
       "      <td>129</td>\n",
       "      <td>有必要</td>\n",
       "      <td>都学习过</td>\n",
       "      <td>8</td>\n",
       "    </tr>\n",
       "    <tr>\n",
       "      <th>9</th>\n",
       "      <td>178</td>\n",
       "      <td>102</td>\n",
       "      <td>无必要</td>\n",
       "      <td>都未学过</td>\n",
       "      <td>9</td>\n",
       "    </tr>\n",
       "    <tr>\n",
       "      <th>0</th>\n",
       "      <td>195</td>\n",
       "      <td>109</td>\n",
       "      <td>有必要</td>\n",
       "      <td>概率统计</td>\n",
       "      <td>0</td>\n",
       "    </tr>\n",
       "    <tr>\n",
       "      <th>5</th>\n",
       "      <td>163</td>\n",
       "      <td>134</td>\n",
       "      <td>无必要</td>\n",
       "      <td>概率统计</td>\n",
       "      <td>5</td>\n",
       "    </tr>\n",
       "    <tr>\n",
       "      <th>3</th>\n",
       "      <td>185</td>\n",
       "      <td>147</td>\n",
       "      <td>无必要</td>\n",
       "      <td>都学习过</td>\n",
       "      <td>3</td>\n",
       "    </tr>\n",
       "  </tbody>\n",
       "</table>\n",
       "</div>"
      ],
      "text/plain": [
       "    身高   体重   开设    课程  学号\n",
       "4  179  130  有必要  都未学过   4\n",
       "8  173  129  有必要  都学习过   8\n",
       "9  178  102  无必要  都未学过   9\n",
       "0  195  109  有必要  概率统计   0\n",
       "5  163  134  无必要  概率统计   5\n",
       "3  185  147  无必要  都学习过   3"
      ]
     },
     "execution_count": 24,
     "metadata": {},
     "output_type": "execute_result"
    }
   ],
   "source": [
    "data.sample(6) #直接抽取6名学生信息（随机）"
   ]
  },
  {
   "cell_type": "code",
   "execution_count": 27,
   "metadata": {},
   "outputs": [
    {
     "name": "stdout",
     "output_type": "stream",
     "text": [
      "    count      mean       std       min      25%       50%       75%       max\n",
      "0  1000.0  0.008328  0.305297 -0.865337 -0.18953  0.005247  0.199705  0.927596\n"
     ]
    },
    {
     "data": {
      "image/png": "[encoded data removed]",
      "text/plain": [
       "<Figure size 432x288 with 1 Axes>"
      ]
     },
     "metadata": {
      "needs_background": "light"
     },
     "output_type": "display_data"
    }
   ],
   "source": [
    "def norm_sim1(N=1000,n=10): #n为样本个数，N为模拟次数（即抽样次数）\n",
    "    xbar=np.zeros(N) #模拟样本均值\n",
    "    for i in range(N): #在[0,1]上的标准正态随机数及均值\n",
    "        xbar[i]=np.random.normal(0,1,n).mean()\n",
    "    sns.distplot(xbar,bins=50) #plt.hist(xbar,bins=50)\n",
    "    print(pd.DataFrame(xbar).describe().T)\n",
    "norm_sim1()"
   ]
  },
  {
   "cell_type": "markdown",
   "metadata": {},
   "source": [
    "# 非正态均值统计量的分布--渐近正态分布"
   ]
  },
  {
   "cell_type": "code",
   "execution_count": 30,
   "metadata": {},
   "outputs": [
    {
     "name": "stdout",
     "output_type": "stream",
     "text": [
      "    count      mean       std       min       25%      50%       75%       max\n",
      "0  1000.0  0.503326  0.092676  0.211479  0.441212  0.50194  0.566019  0.783012\n"
     ]
    },
    {
     "data": {
      "image/png": "[encoded data removed]",
      "text/plain": [
       "<Figure size 432x288 with 1 Axes>"
      ]
     },
     "metadata": {
      "needs_background": "light"
     },
     "output_type": "display_data"
    }
   ],
   "source": [
    "def norm_sim2(N=1000,n=10):\n",
    "    xbar=np.zeros(N)\n",
    "    for i in range(N): \n",
    "        xbar[i]=np.random.uniform(0,1,n).mean() #[0,1]上的随机数及均值\n",
    "    sns.distplot(xbar,bins=50)\n",
    "    print(pd.DataFrame(xbar).describe().T)\n",
    "norm_sim2()"
   ]
  },
  {
   "cell_type": "markdown",
   "metadata": {},
   "source": [
    "# 模拟均值的T分布"
   ]
  },
  {
   "cell_type": "code",
   "execution_count": 31,
   "metadata": {},
   "outputs": [
    {
     "data": {
      "text/plain": [
       "<matplotlib.legend.Legend at 0x174f9bd2940>"
      ]
     },
     "execution_count": 31,
     "metadata": {},
     "output_type": "execute_result"
    },
    {
     "data": {
      "image/png": "[encoded data removed]",
      "text/plain": [
       "<Figure size 432x288 with 1 Axes>"
      ]
     },
     "metadata": {
      "needs_background": "light"
     },
     "output_type": "display_data"
    }
   ],
   "source": [
    "import scipy.stats as st\n",
    "x=np.arange(-4,4,0.1)\n",
    "yn=st.norm.pdf(x,0,1)\n",
    "yt3=st.t.pdf(x,3)\n",
    "yt10=st.t.pdf(x,10)\n",
    "plt.plot(x,yn,'r-',x,yt3,'b.',x,yt10,'g-.')\n",
    "plt.legend(['N(0,1)','t3','t10'])"
   ]
  },
  {
   "cell_type": "markdown",
   "metadata": {},
   "source": [
    "# Python实现简单的参数估计和假设检验方法"
   ]
  },
  {
   "cell_type": "markdown",
   "metadata": {},
   "source": [
    "### 点估计"
   ]
  },
  {
   "cell_type": "code",
   "execution_count": 33,
   "metadata": {},
   "outputs": [
    {
     "data": {
      "text/plain": [
       "174.75"
      ]
     },
     "execution_count": 33,
     "metadata": {},
     "output_type": "execute_result"
    }
   ],
   "source": [
    "data['身高'].mean() #均值的点估计"
   ]
  },
  {
   "cell_type": "code",
   "execution_count": 34,
   "metadata": {},
   "outputs": [
    {
     "data": {
      "text/plain": [
       "11.316654393709594"
      ]
     },
     "execution_count": 34,
     "metadata": {},
     "output_type": "execute_result"
    }
   ],
   "source": [
    "data['身高'].std() #标准差的点估计"
   ]
  },
  {
   "cell_type": "code",
   "execution_count": 35,
   "metadata": {},
   "outputs": [
    {
     "data": {
      "text/plain": [
       "无必要    0.5\n",
       "有必要    0.5\n",
       "Name: 开设, dtype: float64"
      ]
     },
     "execution_count": 35,
     "metadata": {},
     "output_type": "execute_result"
    }
   ],
   "source": [
    "# 比例的点估计\n",
    "f=data['开设'].value_counts()\n",
    "p=f/sum(f)\n",
    "p"
   ]
  },
  {
   "cell_type": "markdown",
   "metadata": {},
   "source": [
    "### 区间估计"
   ]
  },
  {
   "cell_type": "code",
   "execution_count": 38,
   "metadata": {},
   "outputs": [
    {
     "data": {
      "text/plain": [
       "(9.531674678392644, 10.568325321607357)"
      ]
     },
     "execution_count": 38,
     "metadata": {},
     "output_type": "execute_result"
    }
   ],
   "source": [
    "x=np.array([10.1,10,9.8,10.5,9.7,10.1,9.9,10.2,10.3,9.9])\n",
    "mean=x.mean()\n",
    "std=x.std()\n",
    "interval=st.t.interval(0.95,len(x)-1,mean,std)  #置信水平，自由度，样本均值，样本标准差\n",
    "interval"
   ]
  },
  {
   "cell_type": "code",
   "execution_count": 41,
   "metadata": {},
   "outputs": [
    {
     "data": {
      "text/plain": [
       "(150.62912213527576, 198.87087786472424)"
      ]
     },
     "execution_count": 41,
     "metadata": {},
     "output_type": "execute_result"
    }
   ],
   "source": [
    "#计算身高总体均值的置信区间，置信水平为0.95\n",
    "mean1=data['身高'].mean()\n",
    "std1=data['身高'].std()\n",
    "df1=len(data['身高'])-1 #计算自由度\n",
    "st.t.interval(0.95,df1,mean1,std1) #计算置信区间"
   ]
  },
  {
   "cell_type": "markdown",
   "metadata": {},
   "source": [
    "# 参数的假设检验"
   ]
  },
  {
   "cell_type": "markdown",
   "metadata": {},
   "source": [
    "### 由于学生身高数据服从正态分布，下面比较这组学生的身高与全国大学生平均身高（均值为 166 或 170）有无显著性差异？"
   ]
  },
  {
   "cell_type": "code",
   "execution_count": 52,
   "metadata": {},
   "outputs": [
    {
     "data": {
      "text/plain": [
       "Ttest_1sampResult(statistic=3.092786859290753, pvalue=0.0074258303229441285)"
      ]
     },
     "execution_count": 52,
     "metadata": {},
     "output_type": "execute_result"
    }
   ],
   "source": [
    "st.ttest_1samp(data['身高'],popmean=166)#进行单样本t检验,检验结果显示pvalue小于0.05，故在显著性水平0.05时，差异明显，拒绝原假设H0"
   ]
  },
  {
   "cell_type": "code",
   "execution_count": 55,
   "metadata": {},
   "outputs": [
    {
     "data": {
      "text/plain": [
       "Ttest_1sampResult(statistic=1.6789414379006946, pvalue=0.1138676345290142)"
      ]
     },
     "execution_count": 55,
     "metadata": {},
     "output_type": "execute_result"
    }
   ],
   "source": [
    "st.ttest_1samp(data['身高'],popmean=170) #不拒绝原假设"
   ]
  },
  {
   "cell_type": "markdown",
   "metadata": {},
   "source": [
    "### T分布进行均值检验的示意图"
   ]
  },
  {
   "cell_type": "code",
   "execution_count": 54,
   "metadata": {},
   "outputs": [
    {
     "name": "stdout",
     "output_type": "stream",
     "text": [
      "  单样本t检验\t t= 1.679 p=0.1139\n",
      " t置信区间： (150.62912213527576, 198.87087786472424)\n"
     ]
    },
    {
     "data": {
      "image/png": "[encoded data removed]",
      "text/plain": [
       "<Figure size 432x288 with 1 Axes>"
      ]
     },
     "metadata": {
      "needs_background": "light"
     },
     "output_type": "display_data"
    }
   ],
   "source": [
    "def ttest_1plot(X,mu=0): #单样本均值t检验图\n",
    "    k=0.1\n",
    "    df=len(X)-1\n",
    "    t1p=st.ttest_1samp(X,popmean=mu)\n",
    "    x=np.arange(-4,4,k)\n",
    "    y=st.t.pdf(x,df)\n",
    "    t=abs(t1p[0])\n",
    "    p=t1p[1]\n",
    "    x1=x[x<=-t]\n",
    "    y1=y[x<=-t]\n",
    "    x2=x[x>=t]\n",
    "    y2=y[x>=t]\n",
    "    print('  单样本t检验\\t t=%6.3f p=%6.4f' %(t,p))\n",
    "    print(' t置信区间：',st.t.interval(0.95,len(X)-1,X.mean(),X.std()))\n",
    "    plt.plot(x,y)\n",
    "    plt.hlines(0,-4,4)  #y,x_min,x_max\n",
    "    plt.vlines(x1,0,y1,colors='r') #x,y_min,y_max\n",
    "    plt.vlines(x2,0,y2,colors='r')\n",
    "    plt.text(-0.5,0.05,\"p/2=%6.4f\" %t1p[1],fontsize=15)\n",
    "    plt.vlines(st.t.ppf(0.05/2,df),0,0.2,colors='b')\n",
    "    plt.vlines(-st.t.ppf(0.05/2,df),0,0.2,colors='b')\n",
    "    plt.text(-0.5,0.2,r\"$\\alpha$=%3.2f\"%0.05,fontsize=15)\n",
    "ttest_1plot(data['身高'],170)"
   ]
  },
  {
   "cell_type": "code",
   "execution_count": null,
   "metadata": {},
   "outputs": [],
   "source": []
  }
 ],
 "metadata": {
  "kernelspec": {
   "display_name": "Python 3",
   "language": "python",
   "name": "python3"
  },
  "language_info": {
   "codemirror_mode": {
    "name": "ipython",
    "version": 3
   },
   "file_extension": ".py",
   "mimetype": "text/x-python",
   "name": "python",
   "nbconvert_exporter": "python",
   "pygments_lexer": "ipython3",
   "version": "3.7.3"
  }
 },
 "nbformat": 4,
 "nbformat_minor": 2
}
