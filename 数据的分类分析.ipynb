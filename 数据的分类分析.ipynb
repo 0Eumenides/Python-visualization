{
 "cells": [
  {
   "cell_type": "code",
   "execution_count": 1,
   "metadata": {},
   "outputs": [],
   "source": [
    "import matplotlib.pyplot as plt\n",
    "import numpy as np\n",
    "import pandas as pd\n",
    "%matplotlib inline\n",
    "plt.rcParams['font.sans-serif']=['KaiTi'] #SIMHei 黑体 \n",
    "plt.rcParams['axes.unicode_minus']=False #正常显示图中负号"
   ]
  },
  {
   "cell_type": "code",
   "execution_count": 2,
   "metadata": {},
   "outputs": [],
   "source": [
    "data=pd.read_csv('data.csv')"
   ]
  },
  {
   "cell_type": "code",
   "execution_count": 58,
   "metadata": {},
   "outputs": [
    {
     "data": {
      "text/html": [
       "<div>\n",
       "<style scoped>\n",
       "    .dataframe tbody tr th:only-of-type {\n",
       "        vertical-align: middle;\n",
       "    }\n",
       "\n",
       "    .dataframe tbody tr th {\n",
       "        vertical-align: top;\n",
       "    }\n",
       "\n",
       "    .dataframe thead th {\n",
       "        text-align: right;\n",
       "    }\n",
       "</style>\n",
       "<table border=\"1\" class=\"dataframe\">\n",
       "  <thead>\n",
       "    <tr style=\"text-align: right;\">\n",
       "      <th></th>\n",
       "      <th>身高</th>\n",
       "      <th>体重</th>\n",
       "      <th>开设</th>\n",
       "      <th>课程</th>\n",
       "      <th>学号</th>\n",
       "    </tr>\n",
       "  </thead>\n",
       "  <tbody>\n",
       "    <tr>\n",
       "      <th>0</th>\n",
       "      <td>195</td>\n",
       "      <td>109</td>\n",
       "      <td>有必要</td>\n",
       "      <td>概率统计</td>\n",
       "      <td>0</td>\n",
       "    </tr>\n",
       "    <tr>\n",
       "      <th>1</th>\n",
       "      <td>178</td>\n",
       "      <td>119</td>\n",
       "      <td>无必要</td>\n",
       "      <td>统计方法</td>\n",
       "      <td>1</td>\n",
       "    </tr>\n",
       "    <tr>\n",
       "      <th>2</th>\n",
       "      <td>156</td>\n",
       "      <td>122</td>\n",
       "      <td>有必要</td>\n",
       "      <td>编程技术</td>\n",
       "      <td>2</td>\n",
       "    </tr>\n",
       "    <tr>\n",
       "      <th>3</th>\n",
       "      <td>185</td>\n",
       "      <td>147</td>\n",
       "      <td>无必要</td>\n",
       "      <td>都学习过</td>\n",
       "      <td>3</td>\n",
       "    </tr>\n",
       "    <tr>\n",
       "      <th>4</th>\n",
       "      <td>179</td>\n",
       "      <td>130</td>\n",
       "      <td>有必要</td>\n",
       "      <td>都未学过</td>\n",
       "      <td>4</td>\n",
       "    </tr>\n",
       "    <tr>\n",
       "      <th>5</th>\n",
       "      <td>163</td>\n",
       "      <td>134</td>\n",
       "      <td>无必要</td>\n",
       "      <td>概率统计</td>\n",
       "      <td>5</td>\n",
       "    </tr>\n",
       "    <tr>\n",
       "      <th>6</th>\n",
       "      <td>168</td>\n",
       "      <td>149</td>\n",
       "      <td>有必要</td>\n",
       "      <td>统计方法</td>\n",
       "      <td>6</td>\n",
       "    </tr>\n",
       "    <tr>\n",
       "      <th>7</th>\n",
       "      <td>156</td>\n",
       "      <td>138</td>\n",
       "      <td>无必要</td>\n",
       "      <td>编程技术</td>\n",
       "      <td>7</td>\n",
       "    </tr>\n",
       "    <tr>\n",
       "      <th>8</th>\n",
       "      <td>173</td>\n",
       "      <td>129</td>\n",
       "      <td>有必要</td>\n",
       "      <td>都学习过</td>\n",
       "      <td>8</td>\n",
       "    </tr>\n",
       "    <tr>\n",
       "      <th>9</th>\n",
       "      <td>178</td>\n",
       "      <td>102</td>\n",
       "      <td>无必要</td>\n",
       "      <td>都未学过</td>\n",
       "      <td>9</td>\n",
       "    </tr>\n",
       "    <tr>\n",
       "      <th>10</th>\n",
       "      <td>172</td>\n",
       "      <td>118</td>\n",
       "      <td>有必要</td>\n",
       "      <td>概率统计</td>\n",
       "      <td>10</td>\n",
       "    </tr>\n",
       "    <tr>\n",
       "      <th>11</th>\n",
       "      <td>185</td>\n",
       "      <td>147</td>\n",
       "      <td>无必要</td>\n",
       "      <td>统计方法</td>\n",
       "      <td>11</td>\n",
       "    </tr>\n",
       "    <tr>\n",
       "      <th>12</th>\n",
       "      <td>183</td>\n",
       "      <td>109</td>\n",
       "      <td>有必要</td>\n",
       "      <td>编程技术</td>\n",
       "      <td>12</td>\n",
       "    </tr>\n",
       "    <tr>\n",
       "      <th>13</th>\n",
       "      <td>189</td>\n",
       "      <td>145</td>\n",
       "      <td>无必要</td>\n",
       "      <td>都学习过</td>\n",
       "      <td>13</td>\n",
       "    </tr>\n",
       "    <tr>\n",
       "      <th>14</th>\n",
       "      <td>167</td>\n",
       "      <td>120</td>\n",
       "      <td>有必要</td>\n",
       "      <td>都未学过</td>\n",
       "      <td>14</td>\n",
       "    </tr>\n",
       "    <tr>\n",
       "      <th>15</th>\n",
       "      <td>169</td>\n",
       "      <td>103</td>\n",
       "      <td>无必要</td>\n",
       "      <td>概率统计</td>\n",
       "      <td>15</td>\n",
       "    </tr>\n",
       "  </tbody>\n",
       "</table>\n",
       "</div>"
      ],
      "text/plain": [
       "     身高   体重   开设    课程  学号\n",
       "0   195  109  有必要  概率统计   0\n",
       "1   178  119  无必要  统计方法   1\n",
       "2   156  122  有必要  编程技术   2\n",
       "3   185  147  无必要  都学习过   3\n",
       "4   179  130  有必要  都未学过   4\n",
       "5   163  134  无必要  概率统计   5\n",
       "6   168  149  有必要  统计方法   6\n",
       "7   156  138  无必要  编程技术   7\n",
       "8   173  129  有必要  都学习过   8\n",
       "9   178  102  无必要  都未学过   9\n",
       "10  172  118  有必要  概率统计  10\n",
       "11  185  147  无必要  统计方法  11\n",
       "12  183  109  有必要  编程技术  12\n",
       "13  189  145  无必要  都学习过  13\n",
       "14  167  120  有必要  都未学过  14\n",
       "15  169  103  无必要  概率统计  15"
      ]
     },
     "execution_count": 58,
     "metadata": {},
     "output_type": "execute_result"
    }
   ],
   "source": [
    "data"
   ]
  },
  {
   "cell_type": "code",
   "execution_count": 3,
   "metadata": {
    "scrolled": true
   },
   "outputs": [
    {
     "data": {
      "text/plain": [
       "无必要    8\n",
       "有必要    8\n",
       "Name: 开设, dtype: int64"
      ]
     },
     "execution_count": 3,
     "metadata": {},
     "output_type": "execute_result"
    }
   ],
   "source": [
    "data['开设'].value_counts() #value_counts()用来计算一维频数表"
   ]
  },
  {
   "cell_type": "code",
   "execution_count": 4,
   "metadata": {
    "scrolled": true
   },
   "outputs": [
    {
     "data": {
      "text/plain": [
       "16"
      ]
     },
     "execution_count": 4,
     "metadata": {},
     "output_type": "execute_result"
    }
   ],
   "source": [
    "data['开设'].value_counts().sum() #数据的总个数"
   ]
  },
  {
   "cell_type": "code",
   "execution_count": 5,
   "metadata": {
    "scrolled": true
   },
   "outputs": [
    {
     "data": {
      "text/html": [
       "<div>\n",
       "<style scoped>\n",
       "    .dataframe tbody tr th:only-of-type {\n",
       "        vertical-align: middle;\n",
       "    }\n",
       "\n",
       "    .dataframe tbody tr th {\n",
       "        vertical-align: top;\n",
       "    }\n",
       "\n",
       "    .dataframe thead th {\n",
       "        text-align: right;\n",
       "    }\n",
       "</style>\n",
       "<table border=\"1\" class=\"dataframe\">\n",
       "  <thead>\n",
       "    <tr style=\"text-align: right;\">\n",
       "      <th></th>\n",
       "      <th>学号</th>\n",
       "    </tr>\n",
       "    <tr>\n",
       "      <th>开设</th>\n",
       "      <th></th>\n",
       "    </tr>\n",
       "  </thead>\n",
       "  <tbody>\n",
       "    <tr>\n",
       "      <th>无必要</th>\n",
       "      <td>8</td>\n",
       "    </tr>\n",
       "    <tr>\n",
       "      <th>有必要</th>\n",
       "      <td>8</td>\n",
       "    </tr>\n",
       "  </tbody>\n",
       "</table>\n",
       "</div>"
      ],
      "text/plain": [
       "     学号\n",
       "开设     \n",
       "无必要   8\n",
       "有必要   8"
      ]
     },
     "execution_count": 5,
     "metadata": {},
     "output_type": "execute_result"
    }
   ],
   "source": [
    "data.pivot_table(values='学号',index='开设',aggfunc=len)\n",
    "#其中 aggfunc 表示用来指定聚合函数"
   ]
  },
  {
   "cell_type": "markdown",
   "metadata": {},
   "source": [
    "# 由于 Python 中自带的 value_counts()函数只能统计定性数据的个数，无法计算其频率，因此， 这里我们可以自定义一个定性数据的汇总函数。"
   ]
  },
  {
   "cell_type": "code",
   "execution_count": 60,
   "metadata": {},
   "outputs": [
    {
     "data": {
      "text/html": [
       "<div>\n",
       "<style scoped>\n",
       "    .dataframe tbody tr th:only-of-type {\n",
       "        vertical-align: middle;\n",
       "    }\n",
       "\n",
       "    .dataframe tbody tr th {\n",
       "        vertical-align: top;\n",
       "    }\n",
       "\n",
       "    .dataframe thead th {\n",
       "        text-align: right;\n",
       "    }\n",
       "</style>\n",
       "<table border=\"1\" class=\"dataframe\">\n",
       "  <thead>\n",
       "    <tr style=\"text-align: right;\">\n",
       "      <th></th>\n",
       "      <th>案例数</th>\n",
       "      <th>构成比</th>\n",
       "    </tr>\n",
       "  </thead>\n",
       "  <tbody>\n",
       "    <tr>\n",
       "      <th>无必要</th>\n",
       "      <td>8</td>\n",
       "      <td>50.0</td>\n",
       "    </tr>\n",
       "    <tr>\n",
       "      <th>有必要</th>\n",
       "      <td>8</td>\n",
       "      <td>50.0</td>\n",
       "    </tr>\n",
       "    <tr>\n",
       "      <th>合计</th>\n",
       "      <td>16</td>\n",
       "      <td>100.0</td>\n",
       "    </tr>\n",
       "  </tbody>\n",
       "</table>\n",
       "</div>"
      ],
      "text/plain": [
       "     案例数    构成比\n",
       "无必要    8   50.0\n",
       "有必要    8   50.0\n",
       "合计    16  100.0"
      ]
     },
     "execution_count": 60,
     "metadata": {},
     "output_type": "execute_result"
    },
    {
     "data": {
      "image/png": "[encoded data removed]",
      "text/plain": [
       "<Figure size 1080x432 with 2 Axes>"
      ]
     },
     "metadata": {
      "needs_background": "light"
     },
     "output_type": "display_data"
    }
   ],
   "source": [
    "def tab(x,plot): #计数频数表\n",
    "    f=x.value_counts()\n",
    "    s=sum(f)\n",
    "    p=round(f/s*100,3)\n",
    "    T1=pd.concat([f,p],axis=1)\n",
    "    T1.columns=['案例数','构成比']\n",
    "    T2=pd.DataFrame({'案例数':s,'构成比':100.000},index=['合计'])\n",
    "    Tab=T1.append(T2)\n",
    "    if plot:\n",
    "        fig,ax=plt.subplots(1,2,figsize=(15,6))\n",
    "        ax[0].bar(f.index,f.values)\n",
    "        ax[1].pie(p,labels=p.index,autopct='%1.2f%%') #绘制饼图\n",
    "    return(round(Tab,3))\n",
    "tab(data['开设'],True)"
   ]
  },
  {
   "cell_type": "code",
   "execution_count": 7,
   "metadata": {},
   "outputs": [
    {
     "data": {
      "text/plain": [
       "0       (191.1, 195.0]\n",
       "1       (175.5, 179.4]\n",
       "2     (155.961, 159.9]\n",
       "3       (183.3, 187.2]\n",
       "4       (175.5, 179.4]\n",
       "5       (159.9, 163.8]\n",
       "6       (167.7, 171.6]\n",
       "7     (155.961, 159.9]\n",
       "8       (171.6, 175.5]\n",
       "9       (175.5, 179.4]\n",
       "10      (171.6, 175.5]\n",
       "11      (183.3, 187.2]\n",
       "12      (179.4, 183.3]\n",
       "13      (187.2, 191.1]\n",
       "14      (163.8, 167.7]\n",
       "15      (167.7, 171.6]\n",
       "Name: 身高, dtype: category\n",
       "Categories (10, interval[float64]): [(155.961, 159.9] < (159.9, 163.8] < (163.8, 167.7] < (167.7, 171.6] ... (179.4, 183.3] < (183.3, 187.2] < (187.2, 191.1] < (191.1, 195.0]]"
      ]
     },
     "execution_count": 7,
     "metadata": {},
     "output_type": "execute_result"
    }
   ],
   "source": [
    "pd.cut(data['身高'],bins=10) #利用cut进行分组，其中bins表示组数"
   ]
  },
  {
   "cell_type": "code",
   "execution_count": 8,
   "metadata": {},
   "outputs": [
    {
     "data": {
      "text/plain": [
       "(175.5, 179.4]      3\n",
       "(183.3, 187.2]      2\n",
       "(171.6, 175.5]      2\n",
       "(167.7, 171.6]      2\n",
       "(155.961, 159.9]    2\n",
       "(191.1, 195.0]      1\n",
       "(187.2, 191.1]      1\n",
       "(179.4, 183.3]      1\n",
       "(163.8, 167.7]      1\n",
       "(159.9, 163.8]      1\n",
       "Name: 身高, dtype: int64"
      ]
     },
     "execution_count": 8,
     "metadata": {},
     "output_type": "execute_result"
    }
   ],
   "source": [
    "pd.cut(data['身高'],bins=10).value_counts()\n",
    "#先利用cut进行分组再统计，其中bins表示组数"
   ]
  },
  {
   "cell_type": "code",
   "execution_count": 9,
   "metadata": {},
   "outputs": [
    {
     "data": {
      "text/plain": [
       "<matplotlib.axes._subplots.AxesSubplot at 0x22111a94dd8>"
      ]
     },
     "execution_count": 9,
     "metadata": {},
     "output_type": "execute_result"
    },
    {
     "data": {
      "image/png": "[encoded data removed]",
      "text/plain": [
       "<Figure size 432x288 with 1 Axes>"
      ]
     },
     "metadata": {
      "needs_background": "light"
     },
     "output_type": "display_data"
    }
   ],
   "source": [
    "pd.cut(data['身高'],bins=10).value_counts().plot(kind='bar')"
   ]
  },
  {
   "cell_type": "code",
   "execution_count": 10,
   "metadata": {},
   "outputs": [
    {
     "data": {
      "text/plain": [
       "(170, 180]    5\n",
       "(180, 190]    4\n",
       "(160, 170]    4\n",
       "(150, 160]    2\n",
       "(190, 200]    1\n",
       "Name: 身高, dtype: int64"
      ]
     },
     "execution_count": 10,
     "metadata": {},
     "output_type": "execute_result"
    }
   ],
   "source": [
    "pd.cut(data['身高'],bins=[150,160,170,180,190,200]).value_counts()"
   ]
  },
  {
   "cell_type": "code",
   "execution_count": 11,
   "metadata": {},
   "outputs": [
    {
     "data": {
      "text/plain": [
       "<matplotlib.axes._subplots.AxesSubplot at 0x22111c290f0>"
      ]
     },
     "execution_count": 11,
     "metadata": {},
     "output_type": "execute_result"
    },
    {
     "data": {
      "image/png": "[encoded data removed]",
      "text/plain": [
       "<Figure size 432x288 with 1 Axes>"
      ]
     },
     "metadata": {
      "needs_background": "light"
     },
     "output_type": "display_data"
    }
   ],
   "source": [
    "pd.cut(data['身高'],bins=[150,160,170,180,190,200]).value_counts().plot(kind='bar')"
   ]
  },
  {
   "cell_type": "markdown",
   "metadata": {},
   "source": [
    "# 由于 Python 自带的 hist 函数不是以频数表的形式显示的，于是自定义一个函数 freq 来进行统计和绘图。"
   ]
  },
  {
   "cell_type": "code",
   "execution_count": 12,
   "metadata": {},
   "outputs": [
    {
     "data": {
      "text/plain": [
       "(array([2., 2., 0., 3., 1., 2., 1., 1., 0., 4.]),\n",
       " array([102. , 106.7, 111.4, 116.1, 120.8, 125.5, 130.2, 134.9, 139.6,\n",
       "        144.3, 149. ]),\n",
       " <a list of 10 Patch objects>)"
      ]
     },
     "execution_count": 12,
     "metadata": {},
     "output_type": "execute_result"
    },
    {
     "data": {
      "image/png": "[encoded data removed]",
      "text/plain": [
       "<Figure size 432x288 with 1 Axes>"
      ]
     },
     "metadata": {
      "needs_background": "light"
     },
     "output_type": "display_data"
    }
   ],
   "source": [
    "plt.hist(data['体重'],bins=10)"
   ]
  },
  {
   "cell_type": "code",
   "execution_count": 13,
   "metadata": {
    "scrolled": true
   },
   "outputs": [
    {
     "data": {
      "text/plain": [
       "array([2., 2., 0., 3., 1., 2., 1., 1., 0., 4.])"
      ]
     },
     "execution_count": 13,
     "metadata": {},
     "output_type": "execute_result"
    },
    {
     "data": {
      "image/png": "[encoded data removed]",
      "text/plain": [
       "<Figure size 432x288 with 1 Axes>"
      ]
     },
     "metadata": {
      "needs_background": "light"
     },
     "output_type": "display_data"
    }
   ],
   "source": [
    "H=plt.hist(data['体重'],bins=10)\n",
    "H[0]"
   ]
  },
  {
   "cell_type": "code",
   "execution_count": 14,
   "metadata": {},
   "outputs": [
    {
     "name": "stdout",
     "output_type": "stream",
     "text": [
      "[102.  106.7 111.4 116.1 120.8 125.5 130.2 134.9 139.6 144.3]\n",
      "[106.7 111.4 116.1 120.8 125.5 130.2 134.9 139.6 144.3 149. ]\n"
     ]
    }
   ],
   "source": [
    "print(H[1][:-1])\n",
    "print(H[1][1:])"
   ]
  },
  {
   "cell_type": "code",
   "execution_count": 15,
   "metadata": {},
   "outputs": [
    {
     "data": {
      "text/html": [
       "<div>\n",
       "<style scoped>\n",
       "    .dataframe tbody tr th:only-of-type {\n",
       "        vertical-align: middle;\n",
       "    }\n",
       "\n",
       "    .dataframe tbody tr th {\n",
       "        vertical-align: top;\n",
       "    }\n",
       "\n",
       "    .dataframe thead th {\n",
       "        text-align: right;\n",
       "    }\n",
       "</style>\n",
       "<table border=\"1\" class=\"dataframe\">\n",
       "  <thead>\n",
       "    <tr style=\"text-align: right;\">\n",
       "      <th></th>\n",
       "      <th>[下限</th>\n",
       "      <th>上限)</th>\n",
       "      <th>频数</th>\n",
       "      <th>频率(%)</th>\n",
       "      <th>累计频数(%)</th>\n",
       "    </tr>\n",
       "  </thead>\n",
       "  <tbody>\n",
       "    <tr>\n",
       "      <th>0</th>\n",
       "      <td>102.0</td>\n",
       "      <td>106.7</td>\n",
       "      <td>2.0</td>\n",
       "      <td>12.50</td>\n",
       "      <td>12.50</td>\n",
       "    </tr>\n",
       "    <tr>\n",
       "      <th>1</th>\n",
       "      <td>106.7</td>\n",
       "      <td>111.4</td>\n",
       "      <td>2.0</td>\n",
       "      <td>12.50</td>\n",
       "      <td>25.00</td>\n",
       "    </tr>\n",
       "    <tr>\n",
       "      <th>2</th>\n",
       "      <td>111.4</td>\n",
       "      <td>116.1</td>\n",
       "      <td>0.0</td>\n",
       "      <td>0.00</td>\n",
       "      <td>25.00</td>\n",
       "    </tr>\n",
       "    <tr>\n",
       "      <th>3</th>\n",
       "      <td>116.1</td>\n",
       "      <td>120.8</td>\n",
       "      <td>3.0</td>\n",
       "      <td>18.75</td>\n",
       "      <td>43.75</td>\n",
       "    </tr>\n",
       "    <tr>\n",
       "      <th>4</th>\n",
       "      <td>120.8</td>\n",
       "      <td>125.5</td>\n",
       "      <td>1.0</td>\n",
       "      <td>6.25</td>\n",
       "      <td>50.00</td>\n",
       "    </tr>\n",
       "    <tr>\n",
       "      <th>5</th>\n",
       "      <td>125.5</td>\n",
       "      <td>130.2</td>\n",
       "      <td>2.0</td>\n",
       "      <td>12.50</td>\n",
       "      <td>62.50</td>\n",
       "    </tr>\n",
       "    <tr>\n",
       "      <th>6</th>\n",
       "      <td>130.2</td>\n",
       "      <td>134.9</td>\n",
       "      <td>1.0</td>\n",
       "      <td>6.25</td>\n",
       "      <td>68.75</td>\n",
       "    </tr>\n",
       "    <tr>\n",
       "      <th>7</th>\n",
       "      <td>134.9</td>\n",
       "      <td>139.6</td>\n",
       "      <td>1.0</td>\n",
       "      <td>6.25</td>\n",
       "      <td>75.00</td>\n",
       "    </tr>\n",
       "    <tr>\n",
       "      <th>8</th>\n",
       "      <td>139.6</td>\n",
       "      <td>144.3</td>\n",
       "      <td>0.0</td>\n",
       "      <td>0.00</td>\n",
       "      <td>75.00</td>\n",
       "    </tr>\n",
       "    <tr>\n",
       "      <th>9</th>\n",
       "      <td>144.3</td>\n",
       "      <td>149.0</td>\n",
       "      <td>4.0</td>\n",
       "      <td>25.00</td>\n",
       "      <td>100.00</td>\n",
       "    </tr>\n",
       "  </tbody>\n",
       "</table>\n",
       "</div>"
      ],
      "text/plain": [
       "     [下限    上限)   频数  频率(%)  累计频数(%)\n",
       "0  102.0  106.7  2.0  12.50    12.50\n",
       "1  106.7  111.4  2.0  12.50    25.00\n",
       "2  111.4  116.1  0.0   0.00    25.00\n",
       "3  116.1  120.8  3.0  18.75    43.75\n",
       "4  120.8  125.5  1.0   6.25    50.00\n",
       "5  125.5  130.2  2.0  12.50    62.50\n",
       "6  130.2  134.9  1.0   6.25    68.75\n",
       "7  134.9  139.6  1.0   6.25    75.00\n",
       "8  139.6  144.3  0.0   0.00    75.00\n",
       "9  144.3  149.0  4.0  25.00   100.00"
      ]
     },
     "execution_count": 15,
     "metadata": {},
     "output_type": "execute_result"
    },
    {
     "data": {
      "image/png": "[encoded data removed]",
      "text/plain": [
       "<Figure size 432x288 with 1 Axes>"
      ]
     },
     "metadata": {
      "needs_background": "light"
     },
     "output_type": "display_data"
    }
   ],
   "source": [
    "def frep(x,bins=10):\n",
    "    H=plt.hist(x,bins)\n",
    "    a=H[1][:-1]\n",
    "    b=H[1][1:]\n",
    "    f=H[0]\n",
    "    p=f/sum(f)*100\n",
    "    cp=np.cumsum(p)\n",
    "    Freq=pd.DataFrame([a,b,f,p,cp])\n",
    "    Freq.index=['[下限','上限)','频数','频率(%)','累计频数(%)']\n",
    "    return round(Freq.T,2)\n",
    "frep(data['体重']) #调用"
   ]
  },
  {
   "cell_type": "code",
   "execution_count": 40,
   "metadata": {},
   "outputs": [
    {
     "data": {
      "text/html": [
       "<div>\n",
       "<style scoped>\n",
       "    .dataframe tbody tr th:only-of-type {\n",
       "        vertical-align: middle;\n",
       "    }\n",
       "\n",
       "    .dataframe tbody tr th {\n",
       "        vertical-align: top;\n",
       "    }\n",
       "\n",
       "    .dataframe thead th {\n",
       "        text-align: right;\n",
       "    }\n",
       "</style>\n",
       "<table border=\"1\" class=\"dataframe\">\n",
       "  <thead>\n",
       "    <tr style=\"text-align: right;\">\n",
       "      <th></th>\n",
       "      <th>身高</th>\n",
       "      <th>体重</th>\n",
       "      <th>开设</th>\n",
       "      <th>课程</th>\n",
       "      <th>学号</th>\n",
       "    </tr>\n",
       "  </thead>\n",
       "  <tbody>\n",
       "    <tr>\n",
       "      <th>0</th>\n",
       "      <td>195</td>\n",
       "      <td>109</td>\n",
       "      <td>有必要</td>\n",
       "      <td>概率统计</td>\n",
       "      <td>0</td>\n",
       "    </tr>\n",
       "    <tr>\n",
       "      <th>1</th>\n",
       "      <td>178</td>\n",
       "      <td>119</td>\n",
       "      <td>无必要</td>\n",
       "      <td>统计方法</td>\n",
       "      <td>1</td>\n",
       "    </tr>\n",
       "    <tr>\n",
       "      <th>2</th>\n",
       "      <td>156</td>\n",
       "      <td>122</td>\n",
       "      <td>有必要</td>\n",
       "      <td>编程技术</td>\n",
       "      <td>2</td>\n",
       "    </tr>\n",
       "    <tr>\n",
       "      <th>3</th>\n",
       "      <td>185</td>\n",
       "      <td>147</td>\n",
       "      <td>无必要</td>\n",
       "      <td>都学习过</td>\n",
       "      <td>3</td>\n",
       "    </tr>\n",
       "    <tr>\n",
       "      <th>4</th>\n",
       "      <td>179</td>\n",
       "      <td>130</td>\n",
       "      <td>有必要</td>\n",
       "      <td>都未学过</td>\n",
       "      <td>4</td>\n",
       "    </tr>\n",
       "    <tr>\n",
       "      <th>5</th>\n",
       "      <td>163</td>\n",
       "      <td>134</td>\n",
       "      <td>无必要</td>\n",
       "      <td>概率统计</td>\n",
       "      <td>5</td>\n",
       "    </tr>\n",
       "    <tr>\n",
       "      <th>6</th>\n",
       "      <td>168</td>\n",
       "      <td>149</td>\n",
       "      <td>有必要</td>\n",
       "      <td>统计方法</td>\n",
       "      <td>6</td>\n",
       "    </tr>\n",
       "    <tr>\n",
       "      <th>7</th>\n",
       "      <td>156</td>\n",
       "      <td>138</td>\n",
       "      <td>无必要</td>\n",
       "      <td>编程技术</td>\n",
       "      <td>7</td>\n",
       "    </tr>\n",
       "    <tr>\n",
       "      <th>8</th>\n",
       "      <td>173</td>\n",
       "      <td>129</td>\n",
       "      <td>有必要</td>\n",
       "      <td>都学习过</td>\n",
       "      <td>8</td>\n",
       "    </tr>\n",
       "    <tr>\n",
       "      <th>9</th>\n",
       "      <td>178</td>\n",
       "      <td>102</td>\n",
       "      <td>无必要</td>\n",
       "      <td>都未学过</td>\n",
       "      <td>9</td>\n",
       "    </tr>\n",
       "    <tr>\n",
       "      <th>10</th>\n",
       "      <td>172</td>\n",
       "      <td>118</td>\n",
       "      <td>有必要</td>\n",
       "      <td>概率统计</td>\n",
       "      <td>10</td>\n",
       "    </tr>\n",
       "    <tr>\n",
       "      <th>11</th>\n",
       "      <td>185</td>\n",
       "      <td>147</td>\n",
       "      <td>无必要</td>\n",
       "      <td>统计方法</td>\n",
       "      <td>11</td>\n",
       "    </tr>\n",
       "    <tr>\n",
       "      <th>12</th>\n",
       "      <td>183</td>\n",
       "      <td>109</td>\n",
       "      <td>有必要</td>\n",
       "      <td>编程技术</td>\n",
       "      <td>12</td>\n",
       "    </tr>\n",
       "    <tr>\n",
       "      <th>13</th>\n",
       "      <td>189</td>\n",
       "      <td>145</td>\n",
       "      <td>无必要</td>\n",
       "      <td>都学习过</td>\n",
       "      <td>13</td>\n",
       "    </tr>\n",
       "    <tr>\n",
       "      <th>14</th>\n",
       "      <td>167</td>\n",
       "      <td>120</td>\n",
       "      <td>有必要</td>\n",
       "      <td>都未学过</td>\n",
       "      <td>14</td>\n",
       "    </tr>\n",
       "    <tr>\n",
       "      <th>15</th>\n",
       "      <td>169</td>\n",
       "      <td>103</td>\n",
       "      <td>无必要</td>\n",
       "      <td>概率统计</td>\n",
       "      <td>15</td>\n",
       "    </tr>\n",
       "  </tbody>\n",
       "</table>\n",
       "</div>"
      ],
      "text/plain": [
       "     身高   体重   开设    课程  学号\n",
       "0   195  109  有必要  概率统计   0\n",
       "1   178  119  无必要  统计方法   1\n",
       "2   156  122  有必要  编程技术   2\n",
       "3   185  147  无必要  都学习过   3\n",
       "4   179  130  有必要  都未学过   4\n",
       "5   163  134  无必要  概率统计   5\n",
       "6   168  149  有必要  统计方法   6\n",
       "7   156  138  无必要  编程技术   7\n",
       "8   173  129  有必要  都学习过   8\n",
       "9   178  102  无必要  都未学过   9\n",
       "10  172  118  有必要  概率统计  10\n",
       "11  185  147  无必要  统计方法  11\n",
       "12  183  109  有必要  编程技术  12\n",
       "13  189  145  无必要  都学习过  13\n",
       "14  167  120  有必要  都未学过  14\n",
       "15  169  103  无必要  概率统计  15"
      ]
     },
     "execution_count": 40,
     "metadata": {},
     "output_type": "execute_result"
    }
   ],
   "source": [
    "data"
   ]
  },
  {
   "cell_type": "code",
   "execution_count": 42,
   "metadata": {},
   "outputs": [
    {
     "data": {
      "text/html": [
       "<div>\n",
       "<style scoped>\n",
       "    .dataframe tbody tr th:only-of-type {\n",
       "        vertical-align: middle;\n",
       "    }\n",
       "\n",
       "    .dataframe tbody tr th {\n",
       "        vertical-align: top;\n",
       "    }\n",
       "\n",
       "    .dataframe thead th {\n",
       "        text-align: right;\n",
       "    }\n",
       "</style>\n",
       "<table border=\"1\" class=\"dataframe\">\n",
       "  <thead>\n",
       "    <tr style=\"text-align: right;\">\n",
       "      <th>课程</th>\n",
       "      <th>概率统计</th>\n",
       "      <th>统计方法</th>\n",
       "      <th>编程技术</th>\n",
       "      <th>都学习过</th>\n",
       "      <th>都未学过</th>\n",
       "    </tr>\n",
       "    <tr>\n",
       "      <th>开设</th>\n",
       "      <th></th>\n",
       "      <th></th>\n",
       "      <th></th>\n",
       "      <th></th>\n",
       "      <th></th>\n",
       "    </tr>\n",
       "  </thead>\n",
       "  <tbody>\n",
       "    <tr>\n",
       "      <th>无必要</th>\n",
       "      <td>2</td>\n",
       "      <td>2</td>\n",
       "      <td>1</td>\n",
       "      <td>2</td>\n",
       "      <td>1</td>\n",
       "    </tr>\n",
       "    <tr>\n",
       "      <th>有必要</th>\n",
       "      <td>2</td>\n",
       "      <td>1</td>\n",
       "      <td>2</td>\n",
       "      <td>1</td>\n",
       "      <td>2</td>\n",
       "    </tr>\n",
       "  </tbody>\n",
       "</table>\n",
       "</div>"
      ],
      "text/plain": [
       "课程   概率统计  统计方法  编程技术  都学习过  都未学过\n",
       "开设                               \n",
       "无必要     2     2     1     2     1\n",
       "有必要     2     1     2     1     2"
      ]
     },
     "execution_count": 42,
     "metadata": {},
     "output_type": "execute_result"
    }
   ],
   "source": [
    "pd.crosstab(data['开设'],data['课程'])\n",
    "#做两个变量的交叉列联表"
   ]
  },
  {
   "cell_type": "code",
   "execution_count": 46,
   "metadata": {},
   "outputs": [
    {
     "data": {
      "text/html": [
       "<div>\n",
       "<style scoped>\n",
       "    .dataframe tbody tr th:only-of-type {\n",
       "        vertical-align: middle;\n",
       "    }\n",
       "\n",
       "    .dataframe tbody tr th {\n",
       "        vertical-align: top;\n",
       "    }\n",
       "\n",
       "    .dataframe thead th {\n",
       "        text-align: right;\n",
       "    }\n",
       "</style>\n",
       "<table border=\"1\" class=\"dataframe\">\n",
       "  <thead>\n",
       "    <tr style=\"text-align: right;\">\n",
       "      <th>课程</th>\n",
       "      <th>概率统计</th>\n",
       "      <th>统计方法</th>\n",
       "      <th>编程技术</th>\n",
       "      <th>都学习过</th>\n",
       "      <th>都未学过</th>\n",
       "      <th>All</th>\n",
       "    </tr>\n",
       "    <tr>\n",
       "      <th>开设</th>\n",
       "      <th></th>\n",
       "      <th></th>\n",
       "      <th></th>\n",
       "      <th></th>\n",
       "      <th></th>\n",
       "      <th></th>\n",
       "    </tr>\n",
       "  </thead>\n",
       "  <tbody>\n",
       "    <tr>\n",
       "      <th>无必要</th>\n",
       "      <td>2</td>\n",
       "      <td>2</td>\n",
       "      <td>1</td>\n",
       "      <td>2</td>\n",
       "      <td>1</td>\n",
       "      <td>8</td>\n",
       "    </tr>\n",
       "    <tr>\n",
       "      <th>有必要</th>\n",
       "      <td>2</td>\n",
       "      <td>1</td>\n",
       "      <td>2</td>\n",
       "      <td>1</td>\n",
       "      <td>2</td>\n",
       "      <td>8</td>\n",
       "    </tr>\n",
       "    <tr>\n",
       "      <th>All</th>\n",
       "      <td>4</td>\n",
       "      <td>3</td>\n",
       "      <td>3</td>\n",
       "      <td>3</td>\n",
       "      <td>3</td>\n",
       "      <td>16</td>\n",
       "    </tr>\n",
       "  </tbody>\n",
       "</table>\n",
       "</div>"
      ],
      "text/plain": [
       "课程   概率统计  统计方法  编程技术  都学习过  都未学过  All\n",
       "开设                                    \n",
       "无必要     2     2     1     2     1    8\n",
       "有必要     2     1     2     1     2    8\n",
       "All     4     3     3     3     3   16"
      ]
     },
     "execution_count": 46,
     "metadata": {},
     "output_type": "execute_result"
    }
   ],
   "source": [
    "pd.crosstab(data['开设'],data['课程'],margins=True)\n",
    "#行和列的合计可以使用参数margins=True"
   ]
  },
  {
   "cell_type": "markdown",
   "metadata": {},
   "source": [
    "# 对于二维表，我们经常要计算某个数据占行、列的比例或占总和的比例，也就是边缘概率。Python可以很简单地计算这些比例，使用`normalize` 参数，`normalize='index'`表示各数据占行的比例； `normalize='columns'`表示各数据占列的比例；`normalize='all'`,表示各数据占总和的构成比例。例 如"
   ]
  },
  {
   "cell_type": "code",
   "execution_count": 47,
   "metadata": {},
   "outputs": [
    {
     "data": {
      "text/html": [
       "<div>\n",
       "<style scoped>\n",
       "    .dataframe tbody tr th:only-of-type {\n",
       "        vertical-align: middle;\n",
       "    }\n",
       "\n",
       "    .dataframe tbody tr th {\n",
       "        vertical-align: top;\n",
       "    }\n",
       "\n",
       "    .dataframe thead th {\n",
       "        text-align: right;\n",
       "    }\n",
       "</style>\n",
       "<table border=\"1\" class=\"dataframe\">\n",
       "  <thead>\n",
       "    <tr style=\"text-align: right;\">\n",
       "      <th>课程</th>\n",
       "      <th>概率统计</th>\n",
       "      <th>统计方法</th>\n",
       "      <th>编程技术</th>\n",
       "      <th>都学习过</th>\n",
       "      <th>都未学过</th>\n",
       "    </tr>\n",
       "    <tr>\n",
       "      <th>开设</th>\n",
       "      <th></th>\n",
       "      <th></th>\n",
       "      <th></th>\n",
       "      <th></th>\n",
       "      <th></th>\n",
       "    </tr>\n",
       "  </thead>\n",
       "  <tbody>\n",
       "    <tr>\n",
       "      <th>无必要</th>\n",
       "      <td>0.25</td>\n",
       "      <td>0.2500</td>\n",
       "      <td>0.1250</td>\n",
       "      <td>0.2500</td>\n",
       "      <td>0.1250</td>\n",
       "    </tr>\n",
       "    <tr>\n",
       "      <th>有必要</th>\n",
       "      <td>0.25</td>\n",
       "      <td>0.1250</td>\n",
       "      <td>0.2500</td>\n",
       "      <td>0.1250</td>\n",
       "      <td>0.2500</td>\n",
       "    </tr>\n",
       "    <tr>\n",
       "      <th>All</th>\n",
       "      <td>0.25</td>\n",
       "      <td>0.1875</td>\n",
       "      <td>0.1875</td>\n",
       "      <td>0.1875</td>\n",
       "      <td>0.1875</td>\n",
       "    </tr>\n",
       "  </tbody>\n",
       "</table>\n",
       "</div>"
      ],
      "text/plain": [
       "课程   概率统计    统计方法    编程技术    都学习过    都未学过\n",
       "开设                                       \n",
       "无必要  0.25  0.2500  0.1250  0.2500  0.1250\n",
       "有必要  0.25  0.1250  0.2500  0.1250  0.2500\n",
       "All  0.25  0.1875  0.1875  0.1875  0.1875"
      ]
     },
     "execution_count": 47,
     "metadata": {},
     "output_type": "execute_result"
    }
   ],
   "source": [
    "pd.crosstab(data['开设'],data['课程'],margins=True,normalize='index')"
   ]
  },
  {
   "cell_type": "code",
   "execution_count": 48,
   "metadata": {},
   "outputs": [
    {
     "data": {
      "text/html": [
       "<div>\n",
       "<style scoped>\n",
       "    .dataframe tbody tr th:only-of-type {\n",
       "        vertical-align: middle;\n",
       "    }\n",
       "\n",
       "    .dataframe tbody tr th {\n",
       "        vertical-align: top;\n",
       "    }\n",
       "\n",
       "    .dataframe thead th {\n",
       "        text-align: right;\n",
       "    }\n",
       "</style>\n",
       "<table border=\"1\" class=\"dataframe\">\n",
       "  <thead>\n",
       "    <tr style=\"text-align: right;\">\n",
       "      <th>课程</th>\n",
       "      <th>概率统计</th>\n",
       "      <th>统计方法</th>\n",
       "      <th>编程技术</th>\n",
       "      <th>都学习过</th>\n",
       "      <th>都未学过</th>\n",
       "      <th>All</th>\n",
       "    </tr>\n",
       "    <tr>\n",
       "      <th>开设</th>\n",
       "      <th></th>\n",
       "      <th></th>\n",
       "      <th></th>\n",
       "      <th></th>\n",
       "      <th></th>\n",
       "      <th></th>\n",
       "    </tr>\n",
       "  </thead>\n",
       "  <tbody>\n",
       "    <tr>\n",
       "      <th>无必要</th>\n",
       "      <td>0.5</td>\n",
       "      <td>0.666667</td>\n",
       "      <td>0.333333</td>\n",
       "      <td>0.666667</td>\n",
       "      <td>0.333333</td>\n",
       "      <td>0.5</td>\n",
       "    </tr>\n",
       "    <tr>\n",
       "      <th>有必要</th>\n",
       "      <td>0.5</td>\n",
       "      <td>0.333333</td>\n",
       "      <td>0.666667</td>\n",
       "      <td>0.333333</td>\n",
       "      <td>0.666667</td>\n",
       "      <td>0.5</td>\n",
       "    </tr>\n",
       "  </tbody>\n",
       "</table>\n",
       "</div>"
      ],
      "text/plain": [
       "课程   概率统计      统计方法      编程技术      都学习过      都未学过  All\n",
       "开设                                                    \n",
       "无必要   0.5  0.666667  0.333333  0.666667  0.333333  0.5\n",
       "有必要   0.5  0.333333  0.666667  0.333333  0.666667  0.5"
      ]
     },
     "execution_count": 48,
     "metadata": {},
     "output_type": "execute_result"
    }
   ],
   "source": [
    "pd.crosstab(data['开设'],data['课程'],margins=True,normalize='columns')"
   ]
  },
  {
   "cell_type": "code",
   "execution_count": 49,
   "metadata": {},
   "outputs": [
    {
     "data": {
      "text/html": [
       "<div>\n",
       "<style scoped>\n",
       "    .dataframe tbody tr th:only-of-type {\n",
       "        vertical-align: middle;\n",
       "    }\n",
       "\n",
       "    .dataframe tbody tr th {\n",
       "        vertical-align: top;\n",
       "    }\n",
       "\n",
       "    .dataframe thead th {\n",
       "        text-align: right;\n",
       "    }\n",
       "</style>\n",
       "<table border=\"1\" class=\"dataframe\">\n",
       "  <thead>\n",
       "    <tr style=\"text-align: right;\">\n",
       "      <th>课程</th>\n",
       "      <th>概率统计</th>\n",
       "      <th>统计方法</th>\n",
       "      <th>编程技术</th>\n",
       "      <th>都学习过</th>\n",
       "      <th>都未学过</th>\n",
       "      <th>All</th>\n",
       "    </tr>\n",
       "    <tr>\n",
       "      <th>开设</th>\n",
       "      <th></th>\n",
       "      <th></th>\n",
       "      <th></th>\n",
       "      <th></th>\n",
       "      <th></th>\n",
       "      <th></th>\n",
       "    </tr>\n",
       "  </thead>\n",
       "  <tbody>\n",
       "    <tr>\n",
       "      <th>无必要</th>\n",
       "      <td>0.125</td>\n",
       "      <td>0.1250</td>\n",
       "      <td>0.0625</td>\n",
       "      <td>0.1250</td>\n",
       "      <td>0.0625</td>\n",
       "      <td>0.5</td>\n",
       "    </tr>\n",
       "    <tr>\n",
       "      <th>有必要</th>\n",
       "      <td>0.125</td>\n",
       "      <td>0.0625</td>\n",
       "      <td>0.1250</td>\n",
       "      <td>0.0625</td>\n",
       "      <td>0.1250</td>\n",
       "      <td>0.5</td>\n",
       "    </tr>\n",
       "    <tr>\n",
       "      <th>All</th>\n",
       "      <td>0.250</td>\n",
       "      <td>0.1875</td>\n",
       "      <td>0.1875</td>\n",
       "      <td>0.1875</td>\n",
       "      <td>0.1875</td>\n",
       "      <td>1.0</td>\n",
       "    </tr>\n",
       "  </tbody>\n",
       "</table>\n",
       "</div>"
      ],
      "text/plain": [
       "课程    概率统计    统计方法    编程技术    都学习过    都未学过  All\n",
       "开设                                             \n",
       "无必要  0.125  0.1250  0.0625  0.1250  0.0625  0.5\n",
       "有必要  0.125  0.0625  0.1250  0.0625  0.1250  0.5\n",
       "All  0.250  0.1875  0.1875  0.1875  0.1875  1.0"
      ]
     },
     "execution_count": 49,
     "metadata": {},
     "output_type": "execute_result"
    }
   ],
   "source": [
    "pd.crosstab(data['开设'],data['课程'],margins=True,normalize='all')"
   ]
  },
  {
   "cell_type": "code",
   "execution_count": 52,
   "metadata": {},
   "outputs": [
    {
     "data": {
      "text/html": [
       "<div>\n",
       "<style scoped>\n",
       "    .dataframe tbody tr th:only-of-type {\n",
       "        vertical-align: middle;\n",
       "    }\n",
       "\n",
       "    .dataframe tbody tr th {\n",
       "        vertical-align: top;\n",
       "    }\n",
       "\n",
       "    .dataframe thead th {\n",
       "        text-align: right;\n",
       "    }\n",
       "</style>\n",
       "<table border=\"1\" class=\"dataframe\">\n",
       "  <thead>\n",
       "    <tr style=\"text-align: right;\">\n",
       "      <th>课程</th>\n",
       "      <th>概率统计</th>\n",
       "      <th>统计方法</th>\n",
       "      <th>编程技术</th>\n",
       "      <th>都学习过</th>\n",
       "      <th>都未学过</th>\n",
       "      <th>All</th>\n",
       "    </tr>\n",
       "    <tr>\n",
       "      <th>开设</th>\n",
       "      <th></th>\n",
       "      <th></th>\n",
       "      <th></th>\n",
       "      <th></th>\n",
       "      <th></th>\n",
       "      <th></th>\n",
       "    </tr>\n",
       "  </thead>\n",
       "  <tbody>\n",
       "    <tr>\n",
       "      <th>无必要</th>\n",
       "      <td>0.125</td>\n",
       "      <td>0.125</td>\n",
       "      <td>0.062</td>\n",
       "      <td>0.125</td>\n",
       "      <td>0.062</td>\n",
       "      <td>0.5</td>\n",
       "    </tr>\n",
       "    <tr>\n",
       "      <th>有必要</th>\n",
       "      <td>0.125</td>\n",
       "      <td>0.062</td>\n",
       "      <td>0.125</td>\n",
       "      <td>0.062</td>\n",
       "      <td>0.125</td>\n",
       "      <td>0.5</td>\n",
       "    </tr>\n",
       "    <tr>\n",
       "      <th>All</th>\n",
       "      <td>0.250</td>\n",
       "      <td>0.188</td>\n",
       "      <td>0.188</td>\n",
       "      <td>0.188</td>\n",
       "      <td>0.188</td>\n",
       "      <td>1.0</td>\n",
       "    </tr>\n",
       "  </tbody>\n",
       "</table>\n",
       "</div>"
      ],
      "text/plain": [
       "课程    概率统计   统计方法   编程技术   都学习过   都未学过  All\n",
       "开设                                         \n",
       "无必要  0.125  0.125  0.062  0.125  0.062  0.5\n",
       "有必要  0.125  0.062  0.125  0.062  0.125  0.5\n",
       "All  0.250  0.188  0.188  0.188  0.188  1.0"
      ]
     },
     "execution_count": 52,
     "metadata": {},
     "output_type": "execute_result"
    }
   ],
   "source": [
    "pd.crosstab(data['开设'],data['课程'],margins=True,normalize='all').round(3)\n",
    "#保留3位小数"
   ]
  },
  {
   "cell_type": "markdown",
   "metadata": {},
   "source": [
    "# 复式条形图"
   ]
  },
  {
   "cell_type": "code",
   "execution_count": 55,
   "metadata": {},
   "outputs": [
    {
     "data": {
      "text/plain": [
       "<matplotlib.axes._subplots.AxesSubplot at 0x22112b35128>"
      ]
     },
     "execution_count": 55,
     "metadata": {},
     "output_type": "execute_result"
    },
    {
     "data": {
      "image/png": "[encoded data removed]",
      "text/plain": [
       "<Figure size 432x288 with 1 Axes>"
      ]
     },
     "metadata": {
      "needs_background": "light"
     },
     "output_type": "display_data"
    }
   ],
   "source": [
    "T2=pd.crosstab(data['开设'],data['课程'])\n",
    "T2.plot(kind='bar')"
   ]
  },
  {
   "cell_type": "code",
   "execution_count": 56,
   "metadata": {},
   "outputs": [
    {
     "data": {
      "text/plain": [
       "<matplotlib.axes._subplots.AxesSubplot at 0x221129d8710>"
      ]
     },
     "execution_count": 56,
     "metadata": {},
     "output_type": "execute_result"
    },
    {
     "data": {
      "image/png": "[encoded data removed]",
      "text/plain": [
       "<Figure size 432x288 with 1 Axes>"
      ]
     },
     "metadata": {
      "needs_background": "light"
     },
     "output_type": "display_data"
    }
   ],
   "source": [
    "T2.plot(kind='bar',stacked=True)"
   ]
  },
  {
   "cell_type": "code",
   "execution_count": 62,
   "metadata": {},
   "outputs": [
    {
     "data": {
      "text/plain": [
       "pandas.core.groupby.generic.DataFrameGroupBy"
      ]
     },
     "execution_count": 62,
     "metadata": {},
     "output_type": "execute_result"
    }
   ],
   "source": [
    "type(data.groupby(['开设']))"
   ]
  },
  {
   "cell_type": "code",
   "execution_count": 64,
   "metadata": {},
   "outputs": [
    {
     "data": {
      "text/plain": [
       "开设\n",
       "无必要    175.375\n",
       "有必要    174.125\n",
       "Name: 身高, dtype: float64"
      ]
     },
     "execution_count": 64,
     "metadata": {},
     "output_type": "execute_result"
    }
   ],
   "source": [
    "data.groupby(['开设'])['身高'].mean()"
   ]
  },
  {
   "cell_type": "code",
   "execution_count": 66,
   "metadata": {},
   "outputs": [
    {
     "data": {
      "text/plain": [
       "开设\n",
       "无必要    8\n",
       "有必要    8\n",
       "Name: 身高, dtype: int64"
      ]
     },
     "execution_count": 66,
     "metadata": {},
     "output_type": "execute_result"
    }
   ],
   "source": [
    "data.groupby(['开设'])['身高'].size()"
   ]
  },
  {
   "cell_type": "code",
   "execution_count": 67,
   "metadata": {},
   "outputs": [
    {
     "data": {
      "text/plain": [
       "开设   课程  \n",
       "无必要  概率统计    166.0\n",
       "     统计方法    181.5\n",
       "     编程技术    156.0\n",
       "     都学习过    187.0\n",
       "     都未学过    178.0\n",
       "有必要  概率统计    183.5\n",
       "     统计方法    168.0\n",
       "     编程技术    169.5\n",
       "     都学习过    173.0\n",
       "     都未学过    173.0\n",
       "Name: 身高, dtype: float64"
      ]
     },
     "execution_count": 67,
     "metadata": {},
     "output_type": "execute_result"
    }
   ],
   "source": [
    "data.groupby(['开设','课程'])['身高'].mean()"
   ]
  },
  {
   "cell_type": "code",
   "execution_count": 68,
   "metadata": {},
   "outputs": [
    {
     "data": {
      "text/plain": [
       "开设   课程  \n",
       "无必要  概率统计    2\n",
       "     统计方法    2\n",
       "     编程技术    1\n",
       "     都学习过    2\n",
       "     都未学过    1\n",
       "有必要  概率统计    2\n",
       "     统计方法    1\n",
       "     编程技术    2\n",
       "     都学习过    1\n",
       "     都未学过    2\n",
       "Name: 身高, dtype: int64"
      ]
     },
     "execution_count": 68,
     "metadata": {},
     "output_type": "execute_result"
    }
   ],
   "source": [
    "data.groupby(['开设','课程'])['身高'].size()"
   ]
  },
  {
   "cell_type": "markdown",
   "metadata": {},
   "source": [
    "# 对于分组的某一列或多列，应用 agg(func)可以对分组后的数据应用 func 函数，也可以推广到 同时作用于多个列和使用多个函数上。"
   ]
  },
  {
   "cell_type": "code",
   "execution_count": 69,
   "metadata": {},
   "outputs": [
    {
     "data": {
      "text/html": [
       "<div>\n",
       "<style scoped>\n",
       "    .dataframe tbody tr th:only-of-type {\n",
       "        vertical-align: middle;\n",
       "    }\n",
       "\n",
       "    .dataframe tbody tr th {\n",
       "        vertical-align: top;\n",
       "    }\n",
       "\n",
       "    .dataframe thead th {\n",
       "        text-align: right;\n",
       "    }\n",
       "</style>\n",
       "<table border=\"1\" class=\"dataframe\">\n",
       "  <thead>\n",
       "    <tr style=\"text-align: right;\">\n",
       "      <th></th>\n",
       "      <th>mean</th>\n",
       "      <th>std</th>\n",
       "    </tr>\n",
       "    <tr>\n",
       "      <th>开设</th>\n",
       "      <th></th>\n",
       "      <th></th>\n",
       "    </tr>\n",
       "  </thead>\n",
       "  <tbody>\n",
       "    <tr>\n",
       "      <th>无必要</th>\n",
       "      <td>175.375</td>\n",
       "      <td>11.673382</td>\n",
       "    </tr>\n",
       "    <tr>\n",
       "      <th>有必要</th>\n",
       "      <td>174.125</td>\n",
       "      <td>11.716137</td>\n",
       "    </tr>\n",
       "  </tbody>\n",
       "</table>\n",
       "</div>"
      ],
      "text/plain": [
       "        mean        std\n",
       "开设                     \n",
       "无必要  175.375  11.673382\n",
       "有必要  174.125  11.716137"
      ]
     },
     "execution_count": 69,
     "metadata": {},
     "output_type": "execute_result"
    }
   ],
   "source": [
    "data.groupby(['开设'])['身高'].agg([np.mean,np.std])"
   ]
  },
  {
   "cell_type": "code",
   "execution_count": 70,
   "metadata": {},
   "outputs": [
    {
     "data": {
      "text/html": [
       "<div>\n",
       "<style scoped>\n",
       "    .dataframe tbody tr th:only-of-type {\n",
       "        vertical-align: middle;\n",
       "    }\n",
       "\n",
       "    .dataframe tbody tr th {\n",
       "        vertical-align: top;\n",
       "    }\n",
       "\n",
       "    .dataframe thead tr th {\n",
       "        text-align: left;\n",
       "    }\n",
       "\n",
       "    .dataframe thead tr:last-of-type th {\n",
       "        text-align: right;\n",
       "    }\n",
       "</style>\n",
       "<table border=\"1\" class=\"dataframe\">\n",
       "  <thead>\n",
       "    <tr>\n",
       "      <th></th>\n",
       "      <th colspan=\"2\" halign=\"left\">身高</th>\n",
       "      <th colspan=\"2\" halign=\"left\">体重</th>\n",
       "    </tr>\n",
       "    <tr>\n",
       "      <th></th>\n",
       "      <th>mean</th>\n",
       "      <th>std</th>\n",
       "      <th>mean</th>\n",
       "      <th>std</th>\n",
       "    </tr>\n",
       "    <tr>\n",
       "      <th>开设</th>\n",
       "      <th></th>\n",
       "      <th></th>\n",
       "      <th></th>\n",
       "      <th></th>\n",
       "    </tr>\n",
       "  </thead>\n",
       "  <tbody>\n",
       "    <tr>\n",
       "      <th>无必要</th>\n",
       "      <td>175.375</td>\n",
       "      <td>11.673382</td>\n",
       "      <td>129.375</td>\n",
       "      <td>18.950594</td>\n",
       "    </tr>\n",
       "    <tr>\n",
       "      <th>有必要</th>\n",
       "      <td>174.125</td>\n",
       "      <td>11.716137</td>\n",
       "      <td>123.250</td>\n",
       "      <td>13.024702</td>\n",
       "    </tr>\n",
       "  </tbody>\n",
       "</table>\n",
       "</div>"
      ],
      "text/plain": [
       "          身高                  体重           \n",
       "        mean        std     mean        std\n",
       "开设                                         \n",
       "无必要  175.375  11.673382  129.375  18.950594\n",
       "有必要  174.125  11.716137  123.250  13.024702"
      ]
     },
     "execution_count": 70,
     "metadata": {},
     "output_type": "execute_result"
    }
   ],
   "source": [
    "data.groupby(['开设'])['身高','体重'].agg([np.mean,np.std])"
   ]
  },
  {
   "cell_type": "markdown",
   "metadata": {},
   "source": [
    "# apply()不同于 agg()的地方在于：前者应用于 dataframe 的各个列，后者仅作用于指定的列。"
   ]
  },
  {
   "cell_type": "code",
   "execution_count": 73,
   "metadata": {},
   "outputs": [
    {
     "data": {
      "text/html": [
       "<div>\n",
       "<style scoped>\n",
       "    .dataframe tbody tr th:only-of-type {\n",
       "        vertical-align: middle;\n",
       "    }\n",
       "\n",
       "    .dataframe tbody tr th {\n",
       "        vertical-align: top;\n",
       "    }\n",
       "\n",
       "    .dataframe thead th {\n",
       "        text-align: right;\n",
       "    }\n",
       "</style>\n",
       "<table border=\"1\" class=\"dataframe\">\n",
       "  <thead>\n",
       "    <tr style=\"text-align: right;\">\n",
       "      <th></th>\n",
       "      <th>身高</th>\n",
       "      <th>体重</th>\n",
       "    </tr>\n",
       "    <tr>\n",
       "      <th>开设</th>\n",
       "      <th></th>\n",
       "      <th></th>\n",
       "    </tr>\n",
       "  </thead>\n",
       "  <tbody>\n",
       "    <tr>\n",
       "      <th>无必要</th>\n",
       "      <td>175.375</td>\n",
       "      <td>129.375</td>\n",
       "    </tr>\n",
       "    <tr>\n",
       "      <th>有必要</th>\n",
       "      <td>174.125</td>\n",
       "      <td>123.250</td>\n",
       "    </tr>\n",
       "  </tbody>\n",
       "</table>\n",
       "</div>"
      ],
      "text/plain": [
       "          身高       体重\n",
       "开设                   \n",
       "无必要  175.375  129.375\n",
       "有必要  174.125  123.250"
      ]
     },
     "execution_count": 73,
     "metadata": {},
     "output_type": "execute_result"
    }
   ],
   "source": [
    "data.groupby(['开设'])['身高','体重'].apply(np.mean)"
   ]
  },
  {
   "cell_type": "code",
   "execution_count": 75,
   "metadata": {},
   "outputs": [
    {
     "data": {
      "text/html": [
       "<div>\n",
       "<style scoped>\n",
       "    .dataframe tbody tr th:only-of-type {\n",
       "        vertical-align: middle;\n",
       "    }\n",
       "\n",
       "    .dataframe tbody tr th {\n",
       "        vertical-align: top;\n",
       "    }\n",
       "\n",
       "    .dataframe thead th {\n",
       "        text-align: right;\n",
       "    }\n",
       "</style>\n",
       "<table border=\"1\" class=\"dataframe\">\n",
       "  <thead>\n",
       "    <tr style=\"text-align: right;\">\n",
       "      <th></th>\n",
       "      <th></th>\n",
       "      <th>身高</th>\n",
       "      <th>体重</th>\n",
       "    </tr>\n",
       "    <tr>\n",
       "      <th>开设</th>\n",
       "      <th>课程</th>\n",
       "      <th></th>\n",
       "      <th></th>\n",
       "    </tr>\n",
       "  </thead>\n",
       "  <tbody>\n",
       "    <tr>\n",
       "      <th rowspan=\"5\" valign=\"top\">无必要</th>\n",
       "      <th>概率统计</th>\n",
       "      <td>166.0</td>\n",
       "      <td>118.5</td>\n",
       "    </tr>\n",
       "    <tr>\n",
       "      <th>统计方法</th>\n",
       "      <td>181.5</td>\n",
       "      <td>133.0</td>\n",
       "    </tr>\n",
       "    <tr>\n",
       "      <th>编程技术</th>\n",
       "      <td>156.0</td>\n",
       "      <td>138.0</td>\n",
       "    </tr>\n",
       "    <tr>\n",
       "      <th>都学习过</th>\n",
       "      <td>187.0</td>\n",
       "      <td>146.0</td>\n",
       "    </tr>\n",
       "    <tr>\n",
       "      <th>都未学过</th>\n",
       "      <td>178.0</td>\n",
       "      <td>102.0</td>\n",
       "    </tr>\n",
       "    <tr>\n",
       "      <th rowspan=\"5\" valign=\"top\">有必要</th>\n",
       "      <th>概率统计</th>\n",
       "      <td>183.5</td>\n",
       "      <td>113.5</td>\n",
       "    </tr>\n",
       "    <tr>\n",
       "      <th>统计方法</th>\n",
       "      <td>168.0</td>\n",
       "      <td>149.0</td>\n",
       "    </tr>\n",
       "    <tr>\n",
       "      <th>编程技术</th>\n",
       "      <td>169.5</td>\n",
       "      <td>115.5</td>\n",
       "    </tr>\n",
       "    <tr>\n",
       "      <th>都学习过</th>\n",
       "      <td>173.0</td>\n",
       "      <td>129.0</td>\n",
       "    </tr>\n",
       "    <tr>\n",
       "      <th>都未学过</th>\n",
       "      <td>173.0</td>\n",
       "      <td>125.0</td>\n",
       "    </tr>\n",
       "  </tbody>\n",
       "</table>\n",
       "</div>"
      ],
      "text/plain": [
       "             身高     体重\n",
       "开设  课程                \n",
       "无必要 概率统计  166.0  118.5\n",
       "    统计方法  181.5  133.0\n",
       "    编程技术  156.0  138.0\n",
       "    都学习过  187.0  146.0\n",
       "    都未学过  178.0  102.0\n",
       "有必要 概率统计  183.5  113.5\n",
       "    统计方法  168.0  149.0\n",
       "    编程技术  169.5  115.5\n",
       "    都学习过  173.0  129.0\n",
       "    都未学过  173.0  125.0"
      ]
     },
     "execution_count": 75,
     "metadata": {},
     "output_type": "execute_result"
    }
   ],
   "source": [
    "data.groupby(['开设','课程'])['身高','体重'].apply(np.mean)"
   ]
  },
  {
   "cell_type": "code",
   "execution_count": 76,
   "metadata": {},
   "outputs": [
    {
     "data": {
      "text/html": [
       "<div>\n",
       "<style scoped>\n",
       "    .dataframe tbody tr th:only-of-type {\n",
       "        vertical-align: middle;\n",
       "    }\n",
       "\n",
       "    .dataframe tbody tr th {\n",
       "        vertical-align: top;\n",
       "    }\n",
       "\n",
       "    .dataframe thead th {\n",
       "        text-align: right;\n",
       "    }\n",
       "</style>\n",
       "<table border=\"1\" class=\"dataframe\">\n",
       "  <thead>\n",
       "    <tr style=\"text-align: right;\">\n",
       "      <th></th>\n",
       "      <th></th>\n",
       "      <th>身高</th>\n",
       "      <th>体重</th>\n",
       "    </tr>\n",
       "    <tr>\n",
       "      <th>开设</th>\n",
       "      <th>课程</th>\n",
       "      <th></th>\n",
       "      <th></th>\n",
       "    </tr>\n",
       "  </thead>\n",
       "  <tbody>\n",
       "    <tr>\n",
       "      <th rowspan=\"5\" valign=\"top\">无必要</th>\n",
       "      <th>概率统计</th>\n",
       "      <td>332</td>\n",
       "      <td>237</td>\n",
       "    </tr>\n",
       "    <tr>\n",
       "      <th>统计方法</th>\n",
       "      <td>363</td>\n",
       "      <td>266</td>\n",
       "    </tr>\n",
       "    <tr>\n",
       "      <th>编程技术</th>\n",
       "      <td>156</td>\n",
       "      <td>138</td>\n",
       "    </tr>\n",
       "    <tr>\n",
       "      <th>都学习过</th>\n",
       "      <td>374</td>\n",
       "      <td>292</td>\n",
       "    </tr>\n",
       "    <tr>\n",
       "      <th>都未学过</th>\n",
       "      <td>178</td>\n",
       "      <td>102</td>\n",
       "    </tr>\n",
       "    <tr>\n",
       "      <th rowspan=\"5\" valign=\"top\">有必要</th>\n",
       "      <th>概率统计</th>\n",
       "      <td>367</td>\n",
       "      <td>227</td>\n",
       "    </tr>\n",
       "    <tr>\n",
       "      <th>统计方法</th>\n",
       "      <td>168</td>\n",
       "      <td>149</td>\n",
       "    </tr>\n",
       "    <tr>\n",
       "      <th>编程技术</th>\n",
       "      <td>339</td>\n",
       "      <td>231</td>\n",
       "    </tr>\n",
       "    <tr>\n",
       "      <th>都学习过</th>\n",
       "      <td>173</td>\n",
       "      <td>129</td>\n",
       "    </tr>\n",
       "    <tr>\n",
       "      <th>都未学过</th>\n",
       "      <td>346</td>\n",
       "      <td>250</td>\n",
       "    </tr>\n",
       "  </tbody>\n",
       "</table>\n",
       "</div>"
      ],
      "text/plain": [
       "           身高   体重\n",
       "开设  课程            \n",
       "无必要 概率统计  332  237\n",
       "    统计方法  363  266\n",
       "    编程技术  156  138\n",
       "    都学习过  374  292\n",
       "    都未学过  178  102\n",
       "有必要 概率统计  367  227\n",
       "    统计方法  168  149\n",
       "    编程技术  339  231\n",
       "    都学习过  173  129\n",
       "    都未学过  346  250"
      ]
     },
     "execution_count": 76,
     "metadata": {},
     "output_type": "execute_result"
    }
   ],
   "source": [
    "data.groupby(['开设','课程'])['身高','体重'].apply(np.sum)"
   ]
  },
  {
   "cell_type": "code",
   "execution_count": 77,
   "metadata": {},
   "outputs": [
    {
     "data": {
      "text/html": [
       "<div>\n",
       "<style scoped>\n",
       "    .dataframe tbody tr th:only-of-type {\n",
       "        vertical-align: middle;\n",
       "    }\n",
       "\n",
       "    .dataframe tbody tr th {\n",
       "        vertical-align: top;\n",
       "    }\n",
       "\n",
       "    .dataframe thead th {\n",
       "        text-align: right;\n",
       "    }\n",
       "</style>\n",
       "<table border=\"1\" class=\"dataframe\">\n",
       "  <thead>\n",
       "    <tr style=\"text-align: right;\">\n",
       "      <th></th>\n",
       "      <th></th>\n",
       "      <th>身高</th>\n",
       "      <th>体重</th>\n",
       "    </tr>\n",
       "    <tr>\n",
       "      <th>开设</th>\n",
       "      <th>课程</th>\n",
       "      <th></th>\n",
       "      <th></th>\n",
       "    </tr>\n",
       "  </thead>\n",
       "  <tbody>\n",
       "    <tr>\n",
       "      <th rowspan=\"5\" valign=\"top\">无必要</th>\n",
       "      <th>概率统计</th>\n",
       "      <td>9.00</td>\n",
       "      <td>240.25</td>\n",
       "    </tr>\n",
       "    <tr>\n",
       "      <th>统计方法</th>\n",
       "      <td>12.25</td>\n",
       "      <td>196.00</td>\n",
       "    </tr>\n",
       "    <tr>\n",
       "      <th>编程技术</th>\n",
       "      <td>0.00</td>\n",
       "      <td>0.00</td>\n",
       "    </tr>\n",
       "    <tr>\n",
       "      <th>都学习过</th>\n",
       "      <td>4.00</td>\n",
       "      <td>1.00</td>\n",
       "    </tr>\n",
       "    <tr>\n",
       "      <th>都未学过</th>\n",
       "      <td>0.00</td>\n",
       "      <td>0.00</td>\n",
       "    </tr>\n",
       "    <tr>\n",
       "      <th rowspan=\"5\" valign=\"top\">有必要</th>\n",
       "      <th>概率统计</th>\n",
       "      <td>132.25</td>\n",
       "      <td>20.25</td>\n",
       "    </tr>\n",
       "    <tr>\n",
       "      <th>统计方法</th>\n",
       "      <td>0.00</td>\n",
       "      <td>0.00</td>\n",
       "    </tr>\n",
       "    <tr>\n",
       "      <th>编程技术</th>\n",
       "      <td>182.25</td>\n",
       "      <td>42.25</td>\n",
       "    </tr>\n",
       "    <tr>\n",
       "      <th>都学习过</th>\n",
       "      <td>0.00</td>\n",
       "      <td>0.00</td>\n",
       "    </tr>\n",
       "    <tr>\n",
       "      <th>都未学过</th>\n",
       "      <td>36.00</td>\n",
       "      <td>25.00</td>\n",
       "    </tr>\n",
       "  </tbody>\n",
       "</table>\n",
       "</div>"
      ],
      "text/plain": [
       "              身高      体重\n",
       "开设  课程                  \n",
       "无必要 概率统计    9.00  240.25\n",
       "    统计方法   12.25  196.00\n",
       "    编程技术    0.00    0.00\n",
       "    都学习过    4.00    1.00\n",
       "    都未学过    0.00    0.00\n",
       "有必要 概率统计  132.25   20.25\n",
       "    统计方法    0.00    0.00\n",
       "    编程技术  182.25   42.25\n",
       "    都学习过    0.00    0.00\n",
       "    都未学过   36.00   25.00"
      ]
     },
     "execution_count": 77,
     "metadata": {},
     "output_type": "execute_result"
    }
   ],
   "source": [
    "data.groupby(['开设','课程'])['身高','体重'].apply(np.var)\n",
    "#计算方差"
   ]
  },
  {
   "cell_type": "code",
   "execution_count": 79,
   "metadata": {},
   "outputs": [
    {
     "data": {
      "text/html": [
       "<div>\n",
       "<style scoped>\n",
       "    .dataframe tbody tr th:only-of-type {\n",
       "        vertical-align: middle;\n",
       "    }\n",
       "\n",
       "    .dataframe tbody tr th {\n",
       "        vertical-align: top;\n",
       "    }\n",
       "\n",
       "    .dataframe thead th {\n",
       "        text-align: right;\n",
       "    }\n",
       "</style>\n",
       "<table border=\"1\" class=\"dataframe\">\n",
       "  <thead>\n",
       "    <tr style=\"text-align: right;\">\n",
       "      <th></th>\n",
       "      <th>学号</th>\n",
       "    </tr>\n",
       "    <tr>\n",
       "      <th>开设</th>\n",
       "      <th></th>\n",
       "    </tr>\n",
       "  </thead>\n",
       "  <tbody>\n",
       "    <tr>\n",
       "      <th>无必要</th>\n",
       "      <td>8</td>\n",
       "    </tr>\n",
       "    <tr>\n",
       "      <th>有必要</th>\n",
       "      <td>8</td>\n",
       "    </tr>\n",
       "  </tbody>\n",
       "</table>\n",
       "</div>"
      ],
      "text/plain": [
       "     学号\n",
       "开设     \n",
       "无必要   8\n",
       "有必要   8"
      ]
     },
     "execution_count": 79,
     "metadata": {},
     "output_type": "execute_result"
    }
   ],
   "source": [
    "data.pivot_table(index=['开设'],values=['学号'],aggfunc=len)"
   ]
  },
  {
   "cell_type": "code",
   "execution_count": 81,
   "metadata": {},
   "outputs": [
    {
     "data": {
      "text/html": [
       "<div>\n",
       "<style scoped>\n",
       "    .dataframe tbody tr th:only-of-type {\n",
       "        vertical-align: middle;\n",
       "    }\n",
       "\n",
       "    .dataframe tbody tr th {\n",
       "        vertical-align: top;\n",
       "    }\n",
       "\n",
       "    .dataframe thead th {\n",
       "        text-align: right;\n",
       "    }\n",
       "</style>\n",
       "<table border=\"1\" class=\"dataframe\">\n",
       "  <thead>\n",
       "    <tr style=\"text-align: right;\">\n",
       "      <th></th>\n",
       "      <th></th>\n",
       "      <th>学号</th>\n",
       "    </tr>\n",
       "    <tr>\n",
       "      <th>课程</th>\n",
       "      <th>开设</th>\n",
       "      <th></th>\n",
       "    </tr>\n",
       "  </thead>\n",
       "  <tbody>\n",
       "    <tr>\n",
       "      <th rowspan=\"2\" valign=\"top\">概率统计</th>\n",
       "      <th>无必要</th>\n",
       "      <td>2</td>\n",
       "    </tr>\n",
       "    <tr>\n",
       "      <th>有必要</th>\n",
       "      <td>2</td>\n",
       "    </tr>\n",
       "    <tr>\n",
       "      <th rowspan=\"2\" valign=\"top\">统计方法</th>\n",
       "      <th>无必要</th>\n",
       "      <td>2</td>\n",
       "    </tr>\n",
       "    <tr>\n",
       "      <th>有必要</th>\n",
       "      <td>1</td>\n",
       "    </tr>\n",
       "    <tr>\n",
       "      <th rowspan=\"2\" valign=\"top\">编程技术</th>\n",
       "      <th>无必要</th>\n",
       "      <td>1</td>\n",
       "    </tr>\n",
       "    <tr>\n",
       "      <th>有必要</th>\n",
       "      <td>2</td>\n",
       "    </tr>\n",
       "    <tr>\n",
       "      <th rowspan=\"2\" valign=\"top\">都学习过</th>\n",
       "      <th>无必要</th>\n",
       "      <td>2</td>\n",
       "    </tr>\n",
       "    <tr>\n",
       "      <th>有必要</th>\n",
       "      <td>1</td>\n",
       "    </tr>\n",
       "    <tr>\n",
       "      <th rowspan=\"2\" valign=\"top\">都未学过</th>\n",
       "      <th>无必要</th>\n",
       "      <td>1</td>\n",
       "    </tr>\n",
       "    <tr>\n",
       "      <th>有必要</th>\n",
       "      <td>2</td>\n",
       "    </tr>\n",
       "  </tbody>\n",
       "</table>\n",
       "</div>"
      ],
      "text/plain": [
       "          学号\n",
       "课程   开设     \n",
       "概率统计 无必要   2\n",
       "     有必要   2\n",
       "统计方法 无必要   2\n",
       "     有必要   1\n",
       "编程技术 无必要   1\n",
       "     有必要   2\n",
       "都学习过 无必要   2\n",
       "     有必要   1\n",
       "都未学过 无必要   1\n",
       "     有必要   2"
      ]
     },
     "execution_count": 81,
     "metadata": {},
     "output_type": "execute_result"
    }
   ],
   "source": [
    "data.pivot_table(values=['学号'],index=['课程','开设'],aggfunc=len)"
   ]
  },
  {
   "cell_type": "code",
   "execution_count": 84,
   "metadata": {},
   "outputs": [
    {
     "data": {
      "text/html": [
       "<div>\n",
       "<style scoped>\n",
       "    .dataframe tbody tr th:only-of-type {\n",
       "        vertical-align: middle;\n",
       "    }\n",
       "\n",
       "    .dataframe tbody tr th {\n",
       "        vertical-align: top;\n",
       "    }\n",
       "\n",
       "    .dataframe thead tr th {\n",
       "        text-align: left;\n",
       "    }\n",
       "\n",
       "    .dataframe thead tr:last-of-type th {\n",
       "        text-align: right;\n",
       "    }\n",
       "</style>\n",
       "<table border=\"1\" class=\"dataframe\">\n",
       "  <thead>\n",
       "    <tr>\n",
       "      <th></th>\n",
       "      <th colspan=\"5\" halign=\"left\">学号</th>\n",
       "    </tr>\n",
       "    <tr>\n",
       "      <th>课程</th>\n",
       "      <th>概率统计</th>\n",
       "      <th>统计方法</th>\n",
       "      <th>编程技术</th>\n",
       "      <th>都学习过</th>\n",
       "      <th>都未学过</th>\n",
       "    </tr>\n",
       "    <tr>\n",
       "      <th>开设</th>\n",
       "      <th></th>\n",
       "      <th></th>\n",
       "      <th></th>\n",
       "      <th></th>\n",
       "      <th></th>\n",
       "    </tr>\n",
       "  </thead>\n",
       "  <tbody>\n",
       "    <tr>\n",
       "      <th>无必要</th>\n",
       "      <td>2</td>\n",
       "      <td>2</td>\n",
       "      <td>1</td>\n",
       "      <td>2</td>\n",
       "      <td>1</td>\n",
       "    </tr>\n",
       "    <tr>\n",
       "      <th>有必要</th>\n",
       "      <td>2</td>\n",
       "      <td>1</td>\n",
       "      <td>2</td>\n",
       "      <td>1</td>\n",
       "      <td>2</td>\n",
       "    </tr>\n",
       "  </tbody>\n",
       "</table>\n",
       "</div>"
      ],
      "text/plain": [
       "      学号                    \n",
       "课程  概率统计 统计方法 编程技术 都学习过 都未学过\n",
       "开设                          \n",
       "无必要    2    2    1    2    1\n",
       "有必要    2    1    2    1    2"
      ]
     },
     "execution_count": 84,
     "metadata": {},
     "output_type": "execute_result"
    }
   ],
   "source": [
    "data.pivot_table(values=['学号'],index=['开设'],columns=['课程'],aggfunc=len)"
   ]
  },
  {
   "cell_type": "code",
   "execution_count": 85,
   "metadata": {},
   "outputs": [
    {
     "data": {
      "text/html": [
       "<div>\n",
       "<style scoped>\n",
       "    .dataframe tbody tr th:only-of-type {\n",
       "        vertical-align: middle;\n",
       "    }\n",
       "\n",
       "    .dataframe tbody tr th {\n",
       "        vertical-align: top;\n",
       "    }\n",
       "\n",
       "    .dataframe thead tr th {\n",
       "        text-align: left;\n",
       "    }\n",
       "\n",
       "    .dataframe thead tr:last-of-type th {\n",
       "        text-align: right;\n",
       "    }\n",
       "</style>\n",
       "<table border=\"1\" class=\"dataframe\">\n",
       "  <thead>\n",
       "    <tr>\n",
       "      <th></th>\n",
       "      <th colspan=\"6\" halign=\"left\">学号</th>\n",
       "    </tr>\n",
       "    <tr>\n",
       "      <th>课程</th>\n",
       "      <th>概率统计</th>\n",
       "      <th>统计方法</th>\n",
       "      <th>编程技术</th>\n",
       "      <th>都学习过</th>\n",
       "      <th>都未学过</th>\n",
       "      <th>All</th>\n",
       "    </tr>\n",
       "    <tr>\n",
       "      <th>开设</th>\n",
       "      <th></th>\n",
       "      <th></th>\n",
       "      <th></th>\n",
       "      <th></th>\n",
       "      <th></th>\n",
       "      <th></th>\n",
       "    </tr>\n",
       "  </thead>\n",
       "  <tbody>\n",
       "    <tr>\n",
       "      <th>无必要</th>\n",
       "      <td>2</td>\n",
       "      <td>2</td>\n",
       "      <td>1</td>\n",
       "      <td>2</td>\n",
       "      <td>1</td>\n",
       "      <td>8</td>\n",
       "    </tr>\n",
       "    <tr>\n",
       "      <th>有必要</th>\n",
       "      <td>2</td>\n",
       "      <td>1</td>\n",
       "      <td>2</td>\n",
       "      <td>1</td>\n",
       "      <td>2</td>\n",
       "      <td>8</td>\n",
       "    </tr>\n",
       "    <tr>\n",
       "      <th>All</th>\n",
       "      <td>4</td>\n",
       "      <td>3</td>\n",
       "      <td>3</td>\n",
       "      <td>3</td>\n",
       "      <td>3</td>\n",
       "      <td>16</td>\n",
       "    </tr>\n",
       "  </tbody>\n",
       "</table>\n",
       "</div>"
      ],
      "text/plain": [
       "      学号                        \n",
       "课程  概率统计 统计方法 编程技术 都学习过 都未学过 All\n",
       "开设                              \n",
       "无必要    2    2    1    2    1   8\n",
       "有必要    2    1    2    1    2   8\n",
       "All    4    3    3    3    3  16"
      ]
     },
     "execution_count": 85,
     "metadata": {},
     "output_type": "execute_result"
    }
   ],
   "source": [
    "data.pivot_table(values=['学号'],index=['开设'],columns=['课程'],aggfunc=len,margins=True)"
   ]
  },
  {
   "cell_type": "code",
   "execution_count": 86,
   "metadata": {
    "scrolled": true
   },
   "outputs": [
    {
     "data": {
      "text/html": [
       "<div>\n",
       "<style scoped>\n",
       "    .dataframe tbody tr th:only-of-type {\n",
       "        vertical-align: middle;\n",
       "    }\n",
       "\n",
       "    .dataframe tbody tr th {\n",
       "        vertical-align: top;\n",
       "    }\n",
       "\n",
       "    .dataframe thead tr th {\n",
       "        text-align: left;\n",
       "    }\n",
       "\n",
       "    .dataframe thead tr:last-of-type th {\n",
       "        text-align: right;\n",
       "    }\n",
       "</style>\n",
       "<table border=\"1\" class=\"dataframe\">\n",
       "  <thead>\n",
       "    <tr>\n",
       "      <th></th>\n",
       "      <th>mean</th>\n",
       "      <th>std</th>\n",
       "    </tr>\n",
       "    <tr>\n",
       "      <th></th>\n",
       "      <th>身高</th>\n",
       "      <th>身高</th>\n",
       "    </tr>\n",
       "    <tr>\n",
       "      <th>开设</th>\n",
       "      <th></th>\n",
       "      <th></th>\n",
       "    </tr>\n",
       "  </thead>\n",
       "  <tbody>\n",
       "    <tr>\n",
       "      <th>无必要</th>\n",
       "      <td>175.375</td>\n",
       "      <td>11.673382</td>\n",
       "    </tr>\n",
       "    <tr>\n",
       "      <th>有必要</th>\n",
       "      <td>174.125</td>\n",
       "      <td>11.716137</td>\n",
       "    </tr>\n",
       "  </tbody>\n",
       "</table>\n",
       "</div>"
      ],
      "text/plain": [
       "        mean        std\n",
       "          身高         身高\n",
       "开设                     \n",
       "无必要  175.375  11.673382\n",
       "有必要  174.125  11.716137"
      ]
     },
     "execution_count": 86,
     "metadata": {},
     "output_type": "execute_result"
    }
   ],
   "source": [
    "data.pivot_table(index=['开设'],values=['身高'],aggfunc=[np.mean,np.std])"
   ]
  },
  {
   "cell_type": "code",
   "execution_count": 88,
   "metadata": {},
   "outputs": [
    {
     "data": {
      "text/html": [
       "<div>\n",
       "<style scoped>\n",
       "    .dataframe tbody tr th:only-of-type {\n",
       "        vertical-align: middle;\n",
       "    }\n",
       "\n",
       "    .dataframe tbody tr th {\n",
       "        vertical-align: top;\n",
       "    }\n",
       "\n",
       "    .dataframe thead tr th {\n",
       "        text-align: left;\n",
       "    }\n",
       "\n",
       "    .dataframe thead tr:last-of-type th {\n",
       "        text-align: right;\n",
       "    }\n",
       "</style>\n",
       "<table border=\"1\" class=\"dataframe\">\n",
       "  <thead>\n",
       "    <tr>\n",
       "      <th></th>\n",
       "      <th></th>\n",
       "      <th colspan=\"2\" halign=\"left\">len</th>\n",
       "      <th colspan=\"2\" halign=\"left\">mean</th>\n",
       "      <th colspan=\"2\" halign=\"left\">std</th>\n",
       "    </tr>\n",
       "    <tr>\n",
       "      <th></th>\n",
       "      <th></th>\n",
       "      <th>体重</th>\n",
       "      <th>身高</th>\n",
       "      <th>体重</th>\n",
       "      <th>身高</th>\n",
       "      <th>体重</th>\n",
       "      <th>身高</th>\n",
       "    </tr>\n",
       "    <tr>\n",
       "      <th>课程</th>\n",
       "      <th>开设</th>\n",
       "      <th></th>\n",
       "      <th></th>\n",
       "      <th></th>\n",
       "      <th></th>\n",
       "      <th></th>\n",
       "      <th></th>\n",
       "    </tr>\n",
       "  </thead>\n",
       "  <tbody>\n",
       "    <tr>\n",
       "      <th rowspan=\"2\" valign=\"top\">概率统计</th>\n",
       "      <th>无必要</th>\n",
       "      <td>2</td>\n",
       "      <td>2</td>\n",
       "      <td>118.5</td>\n",
       "      <td>166.0</td>\n",
       "      <td>21.920310</td>\n",
       "      <td>4.242641</td>\n",
       "    </tr>\n",
       "    <tr>\n",
       "      <th>有必要</th>\n",
       "      <td>2</td>\n",
       "      <td>2</td>\n",
       "      <td>113.5</td>\n",
       "      <td>183.5</td>\n",
       "      <td>6.363961</td>\n",
       "      <td>16.263456</td>\n",
       "    </tr>\n",
       "    <tr>\n",
       "      <th rowspan=\"2\" valign=\"top\">统计方法</th>\n",
       "      <th>无必要</th>\n",
       "      <td>2</td>\n",
       "      <td>2</td>\n",
       "      <td>133.0</td>\n",
       "      <td>181.5</td>\n",
       "      <td>19.798990</td>\n",
       "      <td>4.949747</td>\n",
       "    </tr>\n",
       "    <tr>\n",
       "      <th>有必要</th>\n",
       "      <td>1</td>\n",
       "      <td>1</td>\n",
       "      <td>149.0</td>\n",
       "      <td>168.0</td>\n",
       "      <td>NaN</td>\n",
       "      <td>NaN</td>\n",
       "    </tr>\n",
       "    <tr>\n",
       "      <th rowspan=\"2\" valign=\"top\">编程技术</th>\n",
       "      <th>无必要</th>\n",
       "      <td>1</td>\n",
       "      <td>1</td>\n",
       "      <td>138.0</td>\n",
       "      <td>156.0</td>\n",
       "      <td>NaN</td>\n",
       "      <td>NaN</td>\n",
       "    </tr>\n",
       "    <tr>\n",
       "      <th>有必要</th>\n",
       "      <td>2</td>\n",
       "      <td>2</td>\n",
       "      <td>115.5</td>\n",
       "      <td>169.5</td>\n",
       "      <td>9.192388</td>\n",
       "      <td>19.091883</td>\n",
       "    </tr>\n",
       "    <tr>\n",
       "      <th rowspan=\"2\" valign=\"top\">都学习过</th>\n",
       "      <th>无必要</th>\n",
       "      <td>2</td>\n",
       "      <td>2</td>\n",
       "      <td>146.0</td>\n",
       "      <td>187.0</td>\n",
       "      <td>1.414214</td>\n",
       "      <td>2.828427</td>\n",
       "    </tr>\n",
       "    <tr>\n",
       "      <th>有必要</th>\n",
       "      <td>1</td>\n",
       "      <td>1</td>\n",
       "      <td>129.0</td>\n",
       "      <td>173.0</td>\n",
       "      <td>NaN</td>\n",
       "      <td>NaN</td>\n",
       "    </tr>\n",
       "    <tr>\n",
       "      <th rowspan=\"2\" valign=\"top\">都未学过</th>\n",
       "      <th>无必要</th>\n",
       "      <td>1</td>\n",
       "      <td>1</td>\n",
       "      <td>102.0</td>\n",
       "      <td>178.0</td>\n",
       "      <td>NaN</td>\n",
       "      <td>NaN</td>\n",
       "    </tr>\n",
       "    <tr>\n",
       "      <th>有必要</th>\n",
       "      <td>2</td>\n",
       "      <td>2</td>\n",
       "      <td>125.0</td>\n",
       "      <td>173.0</td>\n",
       "      <td>7.071068</td>\n",
       "      <td>8.485281</td>\n",
       "    </tr>\n",
       "  </tbody>\n",
       "</table>\n",
       "</div>"
      ],
      "text/plain": [
       "         len      mean               std           \n",
       "          体重 身高     体重     身高         体重         身高\n",
       "课程   开设                                            \n",
       "概率统计 无必要   2  2  118.5  166.0  21.920310   4.242641\n",
       "     有必要   2  2  113.5  183.5   6.363961  16.263456\n",
       "统计方法 无必要   2  2  133.0  181.5  19.798990   4.949747\n",
       "     有必要   1  1  149.0  168.0        NaN        NaN\n",
       "编程技术 无必要   1  1  138.0  156.0        NaN        NaN\n",
       "     有必要   2  2  115.5  169.5   9.192388  19.091883\n",
       "都学习过 无必要   2  2  146.0  187.0   1.414214   2.828427\n",
       "     有必要   1  1  129.0  173.0        NaN        NaN\n",
       "都未学过 无必要   1  1  102.0  178.0        NaN        NaN\n",
       "     有必要   2  2  125.0  173.0   7.071068   8.485281"
      ]
     },
     "execution_count": 88,
     "metadata": {},
     "output_type": "execute_result"
    }
   ],
   "source": [
    "data.pivot_table(['身高','体重'],['课程','开设'],aggfunc=[len,np.mean,np.std])"
   ]
  },
  {
   "cell_type": "code",
   "execution_count": null,
   "metadata": {},
   "outputs": [],
   "source": []
  }
 ],
 "metadata": {
  "kernelspec": {
   "display_name": "Python 3",
   "language": "python",
   "name": "python3"
  },
  "language_info": {
   "codemirror_mode": {
    "name": "ipython",
    "version": 3
   },
   "file_extension": ".py",
   "mimetype": "text/x-python",
   "name": "python",
   "nbconvert_exporter": "python",
   "pygments_lexer": "ipython3",
   "version": "3.7.3"
  }
 },
 "nbformat": 4,
 "nbformat_minor": 2
}
