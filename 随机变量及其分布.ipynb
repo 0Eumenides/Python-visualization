{
 "cells": [
  {
   "cell_type": "code",
   "execution_count": 2,
   "metadata": {},
   "outputs": [],
   "source": [
    "import numpy as np\n",
    "import pandas as pd\n",
    "import matplotlib.pyplot as plt\n",
    "plt.rcParams['font.sans-serif']=['KaiTi']\n",
    "plt.rcParams['axes.unicode_minus']=False #正常显示图中负号"
   ]
  },
  {
   "cell_type": "markdown",
   "metadata": {},
   "source": [
    "# 均匀分布"
   ]
  },
  {
   "cell_type": "code",
   "execution_count": 3,
   "metadata": {},
   "outputs": [
    {
     "data": {
      "text/plain": [
       "<matplotlib.collections.LineCollection at 0x2cf68044f28>"
      ]
     },
     "execution_count": 3,
     "metadata": {},
     "output_type": "execute_result"
    },
    {
     "data": {
      "image/png": "[encoded data removed]",
      "text/plain": [
       "<Figure size 432x288 with 1 Axes>"
      ]
     },
     "metadata": {
      "needs_background": "light"
     },
     "output_type": "display_data"
    }
   ],
   "source": [
    "a=0\n",
    "b=1\n",
    "y=1/(b-a)\n",
    "plt.plot(a,b)\n",
    "plt.hlines(y,a,b) #绘制水平线 y=1/(b-a)"
   ]
  },
  {
   "cell_type": "code",
   "execution_count": 6,
   "metadata": {},
   "outputs": [
    {
     "data": {
      "text/plain": [
       "5"
      ]
     },
     "execution_count": 6,
     "metadata": {},
     "output_type": "execute_result"
    }
   ],
   "source": [
    "np.random.randint(1,10) #生成[1,10)内的随机数"
   ]
  },
  {
   "cell_type": "code",
   "execution_count": 8,
   "metadata": {},
   "outputs": [
    {
     "data": {
      "text/plain": [
       "2.2531005516824996"
      ]
     },
     "execution_count": 8,
     "metadata": {},
     "output_type": "execute_result"
    }
   ],
   "source": [
    "np.random.uniform(0,3) #生成[0,3)内的随机数"
   ]
  },
  {
   "cell_type": "code",
   "execution_count": 10,
   "metadata": {},
   "outputs": [
    {
     "data": {
      "text/plain": [
       "0.624"
      ]
     },
     "execution_count": 10,
     "metadata": {},
     "output_type": "execute_result"
    }
   ],
   "source": [
    "round(np.random.uniform(0,3),3) #保留3位小数"
   ]
  },
  {
   "cell_type": "code",
   "execution_count": 11,
   "metadata": {},
   "outputs": [
    {
     "data": {
      "text/plain": [
       "array([20, 10, 20, 17, 11, 12, 18, 19, 12])"
      ]
     },
     "execution_count": 11,
     "metadata": {},
     "output_type": "execute_result"
    }
   ],
   "source": [
    "np.random.randint(10,21,9) #生成[10,20]内的9各随机整数组"
   ]
  },
  {
   "cell_type": "code",
   "execution_count": 12,
   "metadata": {},
   "outputs": [
    {
     "data": {
      "text/plain": [
       "array([0.5757915 , 0.89407556, 0.58024356, 0.88820397, 0.46009134,\n",
       "       0.04058801, 0.32849752, 0.94903216, 0.0409615 , 0.00889028])"
      ]
     },
     "execution_count": 12,
     "metadata": {},
     "output_type": "execute_result"
    }
   ],
   "source": [
    "np.random.uniform(0,1,10) #在[0,1] 内的10个随机数"
   ]
  },
  {
   "cell_type": "code",
   "execution_count": 13,
   "metadata": {},
   "outputs": [
    {
     "data": {
      "text/plain": [
       "array([0.49309479, 0.49418246, 0.62883953, 0.78401399, 0.86193831,\n",
       "       0.32792093, 0.23227841, 0.47453114, 0.94389819, 0.35022565])"
      ]
     },
     "execution_count": 13,
     "metadata": {},
     "output_type": "execute_result"
    }
   ],
   "source": [
    "np.random.rand(10) #作用同上"
   ]
  },
  {
   "cell_type": "markdown",
   "metadata": {},
   "source": [
    "# 正态分布"
   ]
  },
  {
   "cell_type": "code",
   "execution_count": 16,
   "metadata": {},
   "outputs": [
    {
     "data": {
      "text/plain": [
       "[<matplotlib.lines.Line2D at 0x2cf68224438>]"
      ]
     },
     "execution_count": 16,
     "metadata": {},
     "output_type": "execute_result"
    },
    {
     "data": {
      "image/png": "[encoded data removed]",
      "text/plain": [
       "<Figure size 432x288 with 1 Axes>"
      ]
     },
     "metadata": {
      "needs_background": "light"
     },
     "output_type": "display_data"
    }
   ],
   "source": [
    "x=np.linspace(-4,4,50)\n",
    "y=(1/np.sqrt(2*np.pi))*np.exp(-(x**2)/2)\n",
    "plt.plot(x,y)"
   ]
  },
  {
   "cell_type": "markdown",
   "metadata": {},
   "source": [
    "### 标准正态分布p(z<=2)的累计概率"
   ]
  },
  {
   "cell_type": "code",
   "execution_count": 17,
   "metadata": {},
   "outputs": [
    {
     "data": {
      "text/plain": [
       "0.9772498680518208"
      ]
     },
     "execution_count": 17,
     "metadata": {},
     "output_type": "execute_result"
    }
   ],
   "source": [
    "import scipy.stats as st\n",
    "p=st.norm.cdf(2) #cdf表示累计概率\n",
    "p"
   ]
  },
  {
   "cell_type": "markdown",
   "metadata": {},
   "source": [
    "### 已知标准正态分布累计概率为p(|Z|<=a)=0.95，求对应的分位数a"
   ]
  },
  {
   "cell_type": "code",
   "execution_count": 19,
   "metadata": {},
   "outputs": [
    {
     "data": {
      "text/plain": [
       "1.6448536269514722"
      ]
     },
     "execution_count": 19,
     "metadata": {},
     "output_type": "execute_result"
    }
   ],
   "source": [
    "za=st.norm.ppf(0.95) #单侧分位数\n",
    "za"
   ]
  },
  {
   "cell_type": "code",
   "execution_count": 20,
   "metadata": {},
   "outputs": [
    {
     "data": {
      "text/plain": [
       "[-1.9599639845400545, 1.959963984540054]"
      ]
     },
     "execution_count": 20,
     "metadata": {},
     "output_type": "execute_result"
    }
   ],
   "source": [
    "[st.norm.ppf(0.025),st.norm.ppf(0.975)] #双侧分位"
   ]
  },
  {
   "cell_type": "code",
   "execution_count": 23,
   "metadata": {},
   "outputs": [
    {
     "data": {
      "text/plain": [
       "array([ 0.15926706,  0.64782979, -0.71369733,  1.07033984, -0.56294708])"
      ]
     },
     "execution_count": 23,
     "metadata": {},
     "output_type": "execute_result"
    }
   ],
   "source": [
    "np.random.normal(0,1,5) #生成5个标准正态分布的随机数"
   ]
  },
  {
   "cell_type": "code",
   "execution_count": 24,
   "metadata": {},
   "outputs": [
    {
     "data": {
      "text/plain": [
       "array([ 2.39924923,  7.74678078,  2.82484487,  1.34360038,  8.99125461,\n",
       "        2.07939823,  0.79548672,  5.48912432,  1.20092631,  3.70937622,\n",
       "        0.62142756,  8.6478595 , 10.02156389, -5.14592324,  0.06366958,\n",
       "        8.28171091,  8.13193011, -5.11753733, -0.10825211, -0.3122771 ])"
      ]
     },
     "execution_count": 24,
     "metadata": {},
     "output_type": "execute_result"
    }
   ],
   "source": [
    "np.random.normal(5,4,20) #生成20个均值为5，标准差为4的正态分布"
   ]
  },
  {
   "cell_type": "markdown",
   "metadata": {},
   "source": [
    "### 正态概率图检验\n",
    "#### 正态概率图展示的是样本的累计频率分布与理论正态分布的累计概率分布之间的关系，它是以标准正态分布的分位数为横坐标、样本有序值为纵坐标的散点图。要利用正态概率图 鉴别样本数据是否近似于正态分布，只需看概率图上的点是否近似地在一条直线上，而且该 直线的写了为标准差，截距为均值。用正态概率图还可以获得样本偏度和峰度的粗略信息。 如果图中各点排列为直线或近似接近直线，则样本的正态分布假设可以接受。"
   ]
  },
  {
   "cell_type": "code",
   "execution_count": 27,
   "metadata": {},
   "outputs": [
    {
     "data": {
      "text/html": [
       "<div>\n",
       "<style scoped>\n",
       "    .dataframe tbody tr th:only-of-type {\n",
       "        vertical-align: middle;\n",
       "    }\n",
       "\n",
       "    .dataframe tbody tr th {\n",
       "        vertical-align: top;\n",
       "    }\n",
       "\n",
       "    .dataframe thead th {\n",
       "        text-align: right;\n",
       "    }\n",
       "</style>\n",
       "<table border=\"1\" class=\"dataframe\">\n",
       "  <thead>\n",
       "    <tr style=\"text-align: right;\">\n",
       "      <th></th>\n",
       "      <th>身高</th>\n",
       "      <th>体重</th>\n",
       "      <th>开设</th>\n",
       "      <th>课程</th>\n",
       "      <th>学号</th>\n",
       "    </tr>\n",
       "  </thead>\n",
       "  <tbody>\n",
       "    <tr>\n",
       "      <th>0</th>\n",
       "      <td>195</td>\n",
       "      <td>109</td>\n",
       "      <td>有必要</td>\n",
       "      <td>概率统计</td>\n",
       "      <td>0</td>\n",
       "    </tr>\n",
       "    <tr>\n",
       "      <th>1</th>\n",
       "      <td>178</td>\n",
       "      <td>119</td>\n",
       "      <td>无必要</td>\n",
       "      <td>统计方法</td>\n",
       "      <td>1</td>\n",
       "    </tr>\n",
       "    <tr>\n",
       "      <th>2</th>\n",
       "      <td>156</td>\n",
       "      <td>122</td>\n",
       "      <td>有必要</td>\n",
       "      <td>编程技术</td>\n",
       "      <td>2</td>\n",
       "    </tr>\n",
       "    <tr>\n",
       "      <th>3</th>\n",
       "      <td>185</td>\n",
       "      <td>147</td>\n",
       "      <td>无必要</td>\n",
       "      <td>都学习过</td>\n",
       "      <td>3</td>\n",
       "    </tr>\n",
       "    <tr>\n",
       "      <th>4</th>\n",
       "      <td>179</td>\n",
       "      <td>130</td>\n",
       "      <td>有必要</td>\n",
       "      <td>都未学过</td>\n",
       "      <td>4</td>\n",
       "    </tr>\n",
       "  </tbody>\n",
       "</table>\n",
       "</div>"
      ],
      "text/plain": [
       "    身高   体重   开设    课程  学号\n",
       "0  195  109  有必要  概率统计   0\n",
       "1  178  119  无必要  统计方法   1\n",
       "2  156  122  有必要  编程技术   2\n",
       "3  185  147  无必要  都学习过   3\n",
       "4  179  130  有必要  都未学过   4"
      ]
     },
     "execution_count": 27,
     "metadata": {},
     "output_type": "execute_result"
    }
   ],
   "source": [
    "data=pd.read_csv('data.csv')\n",
    "data.head()"
   ]
  },
  {
   "cell_type": "code",
   "execution_count": 28,
   "metadata": {},
   "outputs": [
    {
     "data": {
      "text/plain": [
       "((array([-1.72352605, -1.26569652, -0.97848645, -0.75533862, -0.56472935,\n",
       "         -0.39279634, -0.23181469, -0.07666006,  0.07666006,  0.23181469,\n",
       "          0.39279634,  0.56472935,  0.75533862,  0.97848645,  1.26569652,\n",
       "          1.72352605]),\n",
       "  array([156, 156, 163, 167, 168, 169, 172, 173, 178, 178, 179, 183, 185,\n",
       "         185, 189, 195], dtype=int64)),\n",
       " (11.930773205885082, 174.75, 0.9914836135847777))"
      ]
     },
     "execution_count": 28,
     "metadata": {},
     "output_type": "execute_result"
    },
    {
     "data": {
      "image/png": "[encoded data removed]",
      "text/plain": [
       "<Figure size 432x288 with 1 Axes>"
      ]
     },
     "metadata": {
      "needs_background": "light"
     },
     "output_type": "display_data"
    }
   ],
   "source": [
    "st.probplot(data['身高'],dist='norm',plot=plt)"
   ]
  },
  {
   "cell_type": "code",
   "execution_count": 29,
   "metadata": {},
   "outputs": [
    {
     "data": {
      "text/plain": [
       "((array([-1.72352605, -1.26569652, -0.97848645, -0.75533862, -0.56472935,\n",
       "         -0.39279634, -0.23181469, -0.07666006,  0.07666006,  0.23181469,\n",
       "          0.39279634,  0.56472935,  0.75533862,  0.97848645,  1.26569652,\n",
       "          1.72352605]),\n",
       "  array([102, 103, 109, 109, 118, 119, 120, 122, 129, 130, 134, 138, 145,\n",
       "         147, 147, 149], dtype=int64)),\n",
       " (16.666780914102294, 126.3125, 0.9781848505183682))"
      ]
     },
     "execution_count": 29,
     "metadata": {},
     "output_type": "execute_result"
    },
    {
     "data": {
      "image/png": "[encoded data removed]",
      "text/plain": [
       "<Figure size 432x288 with 1 Axes>"
      ]
     },
     "metadata": {
      "needs_background": "light"
     },
     "output_type": "display_data"
    }
   ],
   "source": [
    "st.probplot(data['体重'],dist='norm',plot=plt)"
   ]
  },
  {
   "cell_type": "markdown",
   "metadata": {},
   "source": [
    "# 二项分布"
   ]
  },
  {
   "cell_type": "code",
   "execution_count": 38,
   "metadata": {},
   "outputs": [
    {
     "data": {
      "text/plain": [
       "array([1, 0, 6, 1, 0, 1, 2, 0, 1, 2, 1, 3, 2, 1, 1, 2, 2, 1, 1, 2, 2, 4,\n",
       "       4, 3, 3, 1, 1, 1, 2, 2, 2, 1, 2, 4, 0, 2, 1, 3, 2, 4, 4, 1, 1, 0,\n",
       "       3, 3, 2, 2, 1, 2, 2, 2, 3, 2, 2, 3, 4, 2, 1, 3, 2, 3, 3, 1, 2, 3,\n",
       "       4, 1, 1, 4, 1, 1, 0, 2, 1, 1, 3, 7, 2, 2, 3, 2, 3, 1, 1, 1, 2, 3,\n",
       "       3, 4, 3, 1, 2, 3, 3, 5, 1, 2, 2, 0])"
      ]
     },
     "execution_count": 38,
     "metadata": {},
     "output_type": "execute_result"
    }
   ],
   "source": [
    "list_a=np.random.binomial(n=10,p=0.2,size=100)  #5次实验，0.2的成功概率，取样100次\n",
    "list_a"
   ]
  },
  {
   "cell_type": "code",
   "execution_count": 39,
   "metadata": {},
   "outputs": [
    {
     "data": {
      "text/plain": [
       "(array([ 7., 30., 31., 20.,  9.,  1.,  1.,  1.]),\n",
       " array([0.   , 0.875, 1.75 , 2.625, 3.5  , 4.375, 5.25 , 6.125, 7.   ]),\n",
       " <a list of 8 Patch objects>)"
      ]
     },
     "execution_count": 39,
     "metadata": {},
     "output_type": "execute_result"
    },
    {
     "data": {
      "image/png": "[encoded data removed]",
      "text/plain": [
       "<Figure size 432x288 with 1 Axes>"
      ]
     },
     "metadata": {
      "needs_background": "light"
     },
     "output_type": "display_data"
    }
   ],
   "source": [
    "plt.hist(list_a,bins=8,color='g',alpha=0.4,edgecolor='b')"
   ]
  },
  {
   "cell_type": "markdown",
   "metadata": {},
   "source": [
    "# 泊松分布"
   ]
  },
  {
   "cell_type": "code",
   "execution_count": 41,
   "metadata": {},
   "outputs": [
    {
     "data": {
      "image/png": "[encoded data removed]",
      "text/plain": [
       "<Figure size 432x288 with 1 Axes>"
      ]
     },
     "metadata": {
      "needs_background": "light"
     },
     "output_type": "display_data"
    }
   ],
   "source": [
    "list_b=np.random.poisson(8,1000) #平均发生8次，所以参数是8\n",
    "plt.hist(list_b,bins=8,color='g',alpha=0.4,edgecolor='b')\n",
    "plt.show()"
   ]
  },
  {
   "cell_type": "markdown",
   "metadata": {},
   "source": [
    "# 指数分布\n",
    "### 设一个某站台平均每小时会经过 8 辆公共汽车，求两辆公共汽车间隔时间不超过 x 小时的概率："
   ]
  },
  {
   "cell_type": "code",
   "execution_count": 42,
   "metadata": {},
   "outputs": [
    {
     "data": {
      "image/png": "[encoded data removed]",
      "text/plain": [
       "<Figure size 432x288 with 1 Axes>"
      ]
     },
     "metadata": {
      "needs_background": "light"
     },
     "output_type": "display_data"
    }
   ],
   "source": [
    "list_e=np.random.exponential(0.125,1000)\n",
    "#生成1000个服从参数为0.125的指数分布的随机数\n",
    "plt.hist(list_e,bins=8,color='g',edgecolor='b',alpha=0.4)\n",
    "plt.show()"
   ]
  },
  {
   "cell_type": "markdown",
   "metadata": {},
   "source": [
    "# Python 实现二项分布运算示例"
   ]
  },
  {
   "cell_type": "code",
   "execution_count": 43,
   "metadata": {},
   "outputs": [],
   "source": [
    "import scipy.stats as st\n",
    "import matplotlib.pyplot as plt\n",
    "# 二项分布 (binomial distribution)\n",
    "\n",
    "# 前提：独立重复试验、有放回、只有两个结果 \n",
    "# 二项分布指出，随机一次试验出现事件 A 的概率如果为 p，那么在重复 n 次#试验中 出现 k 次事件A的概率为：\n",
    "# f(n,k,p) = choose(n, k) * p**k * (1-p)**(n-k)\n",
    "# ①定义二项分布的基本信息\n",
    "p=0.4 #事件A概率0.4\n",
    "n=5  #重复实验5次\n",
    "k=np.arange(n+1)# 6种可能出现的结果\n",
    "\n",
    "# ②计算二项分布的概率质量分布 (probability mass function) \n",
    "# 之所以称为质量，是因为离散的点，默认体积（即宽度）为 1 \n",
    "probs = st.binom.pmf(k, n, p)\n",
    "#array([ 0.07776, 0.2592 , 0.3456 , 0.2304 , 0.0768 , 0.01024])\n",
    "\n",
    "# ③计算二项分布的累积概率 (cumulative density function）\n",
    "cumsum_probs = st.binom.cdf(k, n, p)\n",
    "#array([ 0.07776, 0.33696, 0.68256, 0.91296, 0.98976, 1.])\n",
    "\n",
    "# ④根据累积概率得到对应的 k，这里偷懒，直接用了上面的 cumsum_probs\n",
    "k2 = st.binom.ppf(cumsum_probs, n, p)\n",
    "#array([0, 1, 2, 3, 4, 5])\n"
   ]
  },
  {
   "cell_type": "markdown",
   "metadata": {},
   "source": [
    "# 随机模拟及其应用"
   ]
  },
  {
   "cell_type": "markdown",
   "metadata": {},
   "source": [
    "### Bernouli 大数定律揭示了\"频率稳定于概率\"说法的实质，下面通过扔硬币的方式模拟大数定律。"
   ]
  },
  {
   "cell_type": "code",
   "execution_count": 48,
   "metadata": {},
   "outputs": [
    {
     "data": {
      "image/png": "[encoded data removed]",
      "text/plain": [
       "<Figure size 432x288 with 1 Axes>"
      ]
     },
     "metadata": {
      "needs_background": "light"
     },
     "output_type": "display_data"
    }
   ],
   "source": [
    "def Bernouli(N=100):\n",
    "    p=np.zeros(N)\n",
    "    for n in range(1,N):\n",
    "        f=np.random.randint(0,2,n) #生成n个0-1整数\n",
    "        m=sum(f) #计算频数\n",
    "        p[n]=m/n #计算频率\n",
    "        plt.plot(p)\n",
    "        plt.hlines(0.5,1,N)\n",
    "Bernouli(1000)"
   ]
  },
  {
   "cell_type": "markdown",
   "metadata": {},
   "source": [
    "### 模拟方法求定积分(没看懂)"
   ]
  },
  {
   "cell_type": "code",
   "execution_count": 49,
   "metadata": {},
   "outputs": [
    {
     "data": {
      "text/plain": [
       "0.6827211585717882"
      ]
     },
     "execution_count": 49,
     "metadata": {},
     "output_type": "execute_result"
    }
   ],
   "source": [
    "def g(x):\n",
    "    return (1/np.sqrt(2*np.pi)*np.exp(-x**2/2))\n",
    "def I(n,a,b,g):\n",
    "    x=np.random.uniform(0,1,n) #生产恒[0,1]内 n 个随机数\n",
    "    return sum([(b-a)*g(a+(b-a)*y) for y in x])/n\n",
    "I(10000,-1,1,g)"
   ]
  },
  {
   "cell_type": "markdown",
   "metadata": {},
   "source": [
    "### 利用 scipy 中的求积分函数，，可以直接求积分"
   ]
  },
  {
   "cell_type": "code",
   "execution_count": 51,
   "metadata": {},
   "outputs": [
    {
     "data": {
      "text/plain": [
       "(0.682689492137086, 7.579375928402476e-15)"
      ]
     },
     "execution_count": 51,
     "metadata": {},
     "output_type": "execute_result"
    }
   ],
   "source": [
    "from scipy.integrate import quad\n",
    "quad(g,-1,1)"
   ]
  }
 ],
 "metadata": {
  "kernelspec": {
   "display_name": "Python 3",
   "language": "python",
   "name": "python3"
  },
  "language_info": {
   "codemirror_mode": {
    "name": "ipython",
    "version": 3
   },
   "file_extension": ".py",
   "mimetype": "text/x-python",
   "name": "python",
   "nbconvert_exporter": "python",
   "pygments_lexer": "ipython3",
   "version": "3.7.3"
  }
 },
 "nbformat": 4,
 "nbformat_minor": 2
}
